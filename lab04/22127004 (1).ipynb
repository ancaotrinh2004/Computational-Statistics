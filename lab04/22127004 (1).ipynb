{
  "cells": [
    {
      "cell_type": "markdown",
      "metadata": {
        "id": "QXJL-L5JniNP"
      },
      "source": [
        "# Thống kê máy tính và ứng dụng (Computational Statistics and Applications)"
      ]
    },
    {
      "cell_type": "markdown",
      "metadata": {
        "id": "A-FwVwROnnKg"
      },
      "source": [
        "## Thông tin sinh viên :\n",
        "- **Họ và tên :** Trình Cao An  \n",
        "- **MSSV:** 22127004  "
      ]
    },
    {
      "cell_type": "markdown",
      "metadata": {
        "id": "LnCG1mQ9nsKy"
      },
      "source": [
        "## Các thư viện cần thiết"
      ]
    },
    {
      "cell_type": "code",
      "execution_count": 53,
      "metadata": {
        "id": "swU6ojXInwyF"
      },
      "outputs": [],
      "source": [
        "import random\n",
        "from collections import Counter\n",
        "import numpy as np\n",
        "import matplotlib.pyplot as plt\n",
        "import scipy.stats as stats\n",
        "import pandas as pd\n",
        "from scipy.stats import norm\n",
        "from mpl_toolkits.mplot3d import Axes3D\n",
        "from scipy.optimize import minimize\n",
        "import statsmodels.api as sm\n",
        "from statsmodels.graphics.tsaplots import plot_acf\n",
        "import pymc as pm\n",
        "import arviz as az\n",
        "import pytensor.tensor as pt\n",
        "from scipy.stats import beta\n",
        "import pandas as pd\n",
        "from statistics import median, stdev\n",
        "from scipy.stats import pearsonr\n",
        "from sklearn.linear_model import LinearRegression, Ridge\n",
        "from sklearn.ensemble import RandomForestRegressor\n",
        "from sklearn.model_selection import train_test_split\n",
        "from sklearn.metrics import r2_score, mean_squared_error\n",
        "from sklearn.linear_model import BayesianRidge\n",
        "from sklearn.gaussian_process import GaussianProcessRegressor\n",
        "from sklearn.gaussian_process.kernels import RBF, ConstantKernel\n",
        "from sklearn.linear_model import LogisticRegression\n",
        "from sklearn.neighbors import KNeighborsClassifier\n",
        "from sklearn.ensemble import RandomForestClassifier\n",
        "from sklearn.metrics import accuracy_score, classification_report\n",
        "from sklearn.naive_bayes import GaussianNB\n",
        "from sklearn.model_selection import cross_val_score\n",
        "from sklearn.model_selection import GridSearchCV, StratifiedKFold"
      ]
    },
    {
      "cell_type": "markdown",
      "metadata": {
        "id": "5C6M76gMouM4"
      },
      "source": [
        "## Câu 1"
      ]
    },
    {
      "cell_type": "markdown",
      "metadata": {
        "id": "IiAUpYoLowyt"
      },
      "source": [
        "### Phần 1"
      ]
    },
    {
      "cell_type": "markdown",
      "metadata": {
        "id": "zY1DagRfpvnt"
      },
      "source": [
        "#### Câu a:"
      ]
    },
    {
      "cell_type": "markdown",
      "metadata": {
        "id": "hzg2gPLioz1i"
      },
      "source": [
        "Ta có:\n",
        "$$\n",
        "T_1 = 2 \\bar{X} = \\frac{2}{n}\\sum^n_{i = 1}X_i\n",
        "$$"
      ]
    },
    {
      "cell_type": "code",
      "execution_count": 54,
      "metadata": {
        "id": "5oKgKEYUpwp-"
      },
      "outputs": [],
      "source": [
        "# Dữ liệu quan sát\n",
        "X = np.array([\n",
        "    1.11, 0.00, 0.47, 0.23, 0.14, 0.29, 0.53, 0.61,\n",
        "    0.83, 0.65, 1.05, 0.31, 1.35, 0.04, 1.03, 0.64,\n",
        "    0.86, 0.22, 0.30, 1.23, 1.49, 0.48, 1.07, 1.35\n",
        "])"
      ]
    },
    {
      "cell_type": "code",
      "execution_count": 55,
      "metadata": {
        "colab": {
          "base_uri": "https://localhost:8080/"
        },
        "id": "E98wbLkitmkw",
        "outputId": "16237241-d2a8-49e1-d510-bbda673c04ef"
      },
      "outputs": [
        {
          "name": "stdout",
          "output_type": "stream",
          "text": [
            "T1 = 2·X̄ = 1.3567\n"
          ]
        }
      ],
      "source": [
        "X_bar = np.mean(X)\n",
        "T1 = 2 * X_bar\n",
        "print(f\"T1 = 2·X̄ = {T1:.4f}\")"
      ]
    },
    {
      "cell_type": "markdown",
      "metadata": {
        "id": "zTGqqEN0uD3E"
      },
      "source": [
        "Ta có:\n",
        "$$\n",
        "\\hat{m} = \\frac{0.61 + 0.64}{2} = 0.625\n",
        "$$\n",
        "và $T_2 = 2\\hat{m}$"
      ]
    },
    {
      "cell_type": "code",
      "execution_count": 56,
      "metadata": {
        "colab": {
          "base_uri": "https://localhost:8080/"
        },
        "id": "OXkwEhZwuii-",
        "outputId": "4c7e4f1a-3fca-4103-fffc-bc10db540767"
      },
      "outputs": [
        {
          "name": "stdout",
          "output_type": "stream",
          "text": [
            "T2 = 2·m̂ = 1.2500\n"
          ]
        }
      ],
      "source": [
        "m_hat = (np.quantile(X, 0.5))\n",
        "T2 = 2 * m_hat\n",
        "print(f\"T2 = 2·m̂ = {T2:.4f}\")"
      ]
    },
    {
      "cell_type": "markdown",
      "metadata": {
        "id": "gPduGvObvBrr"
      },
      "source": [
        "Ta có :\n",
        "$$\n",
        "T_3 = 2\\sqrt{3}S\n",
        "$$"
      ]
    },
    {
      "cell_type": "code",
      "execution_count": 57,
      "metadata": {
        "colab": {
          "base_uri": "https://localhost:8080/"
        },
        "id": "Dbcz0zdKvSbi",
        "outputId": "663bde89-b3e0-4adb-becf-5719a3c14714"
      },
      "outputs": [
        {
          "name": "stdout",
          "output_type": "stream",
          "text": [
            "T3 = 1.5547\n"
          ]
        }
      ],
      "source": [
        "S = stdev(X)\n",
        "T3 = 2 * np.sqrt(3) * S\n",
        "print(f\"T3 = {T3:.4f}\")"
      ]
    },
    {
      "cell_type": "markdown",
      "metadata": {
        "id": "CrqAYIYEvznp"
      },
      "source": [
        "Ta có:\n",
        "$$\n",
        "T_4 = \\max{\\{X_i\\}}\n",
        "$$"
      ]
    },
    {
      "cell_type": "code",
      "execution_count": 58,
      "metadata": {
        "colab": {
          "base_uri": "https://localhost:8080/"
        },
        "id": "ysdybfM6v8HH",
        "outputId": "80e9d5d2-5186-4ef4-b4c6-fc2ed18a604e"
      },
      "outputs": [
        {
          "name": "stdout",
          "output_type": "stream",
          "text": [
            "T4 = 1.4900\n"
          ]
        }
      ],
      "source": [
        "T4 = np.max(X)\n",
        "print(f\"T4 = {T4:.4f}\")"
      ]
    },
    {
      "cell_type": "markdown",
      "metadata": {
        "id": "mbPdHxJMxYSv"
      },
      "source": [
        "#### Câu b:"
      ]
    },
    {
      "cell_type": "markdown",
      "metadata": {
        "id": "cZC60KCu0IVd"
      },
      "source": [
        "Các bước cụ thể:\n",
        "1. Chọn số lần lặp $N$\n",
        "2. Khởi tạo các mảng để lưu $T_k^{*(b)}$ cho $k = 1, 2, 3, 4$\n",
        "3. Lặp $N$ lần:\n",
        "  - Chọn ngẫu nhiên 24 giá trị có hoàn lại từ $X$ ban đầu\n",
        "  - Tính thống kê $\\bar{X}^{*(b)}, \\hat{m}^{*(b)}, \\max{X}^{*(b)}$\n",
        "  - Tính các giá trị $T_1, T_2, T_3, T_4$ và lưu lại\n",
        "4. Thống kê và tính độ lệch chuẩn của từng dãy $\\{T_k^{*(b)}\\}_{n = 1}^N$"
      ]
    },
    {
      "cell_type": "code",
      "execution_count": 59,
      "metadata": {
        "colab": {
          "base_uri": "https://localhost:8080/",
          "height": 452
        },
        "id": "EBkNHbvUxajj",
        "outputId": "64845b2e-cd4d-4e05-9e98-e2c71e7a13b9"
      },
      "outputs": [
        {
          "data": {
            "image/png": "[encoded data removed]",
            "text/plain": [
              "<Figure size 640x480 with 1 Axes>"
            ]
          },
          "metadata": {},
          "output_type": "display_data"
        }
      ],
      "source": [
        "n = len(X)\n",
        "B = 10000  # số lần bootstrap\n",
        "\n",
        "T1_boot = [2 * np.mean(np.random.choice(X, size=n, replace=True))for _ in range(B)]\n",
        "plt.hist(T1_boot, bins=50, density=True)\n",
        "plt.title(f\"Bootstrap distribution (T1 = {T1:.4f}, n = {n}, \"\n",
        "          f\"mean = {np.mean(T1_boot):.4f}, se = {np.std(T1_boot):.4f}, N = {B})\")\n",
        "plt.show()\n"
      ]
    },
    {
      "cell_type": "code",
      "execution_count": 60,
      "metadata": {
        "colab": {
          "base_uri": "https://localhost:8080/",
          "height": 452
        },
        "id": "wIj_fYoG2Wh4",
        "outputId": "8c2d5c36-5fb1-44db-fecf-4a44d0c03a35"
      },
      "outputs": [
        {
          "data": {
            "image/png": "[encoded data removed]",
            "text/plain": [
              "<Figure size 640x480 with 1 Axes>"
            ]
          },
          "metadata": {},
          "output_type": "display_data"
        }
      ],
      "source": [
        "# --- T2: 2 * median(X*) ---\n",
        "T2_boot = [\n",
        "    2 * np.median(np.random.choice(X, size=n, replace=True))\n",
        "    for _ in range(B)\n",
        "]\n",
        "plt.hist(T2_boot, bins=50, density=True)\n",
        "plt.title(\n",
        "    f\"Bootstrap distribution (T2 = {T2:.4f}, n = {n}, \"\n",
        "    f\"mean = {np.mean(T2_boot):.4f}, se = {np.std(T2_boot, ddof=1):.4f}, N = {B})\"\n",
        ")\n",
        "plt.show()\n"
      ]
    },
    {
      "cell_type": "code",
      "execution_count": 61,
      "metadata": {
        "colab": {
          "base_uri": "https://localhost:8080/",
          "height": 452
        },
        "id": "RilLFNO-2b06",
        "outputId": "a5ffe69e-0e7c-4eb8-c0ba-63aa994ef581"
      },
      "outputs": [
        {
          "data": {
            "image/png": "[encoded data removed]",
            "text/plain": [
              "<Figure size 640x480 with 1 Axes>"
            ]
          },
          "metadata": {},
          "output_type": "display_data"
        }
      ],
      "source": [
        "# --- T3: 2 * sqrt(3) * S(X*) ---\n",
        "T3_boot = [\n",
        "    2 * np.sqrt(3) * np.std(np.random.choice(X, size=n, replace=True), ddof=1)\n",
        "    for _ in range(B)\n",
        "]\n",
        "plt.hist(T3_boot, bins=50, density=True)\n",
        "plt.title(\n",
        "    f\"Bootstrap distribution (T3 = {T3:.4f}, n = {n}, \"\n",
        "    f\"mean = {np.mean(T3_boot):.4f}, se = {np.std(T3_boot, ddof=1):.4f}, N = {B})\"\n",
        ")\n",
        "plt.show()\n"
      ]
    },
    {
      "cell_type": "code",
      "execution_count": 62,
      "metadata": {
        "colab": {
          "base_uri": "https://localhost:8080/",
          "height": 452
        },
        "id": "uNVEncKu2g7o",
        "outputId": "0ff45046-61da-494f-ce4e-da52d64e75ff"
      },
      "outputs": [
        {
          "data": {
            "image/png": "[encoded data removed]",
            "text/plain": [
              "<Figure size 640x480 with 1 Axes>"
            ]
          },
          "metadata": {},
          "output_type": "display_data"
        }
      ],
      "source": [
        "# --- T4: max(X*) ---\n",
        "T4_boot = [\n",
        "    np.max(np.random.choice(X, size=n, replace=True))\n",
        "    for _ in range(B)\n",
        "]\n",
        "plt.hist(T4_boot, bins=50, density=True)\n",
        "plt.title(\n",
        "    f\"Bootstrap distribution (T4 = {T4:.4f}, n = {n}, \"\n",
        "    f\"mean = {np.mean(T4_boot):.4f}, se = {np.std(T4_boot, ddof=1):.4f}, N = {B})\"\n",
        ")\n",
        "plt.show()"
      ]
    },
    {
      "cell_type": "markdown",
      "metadata": {
        "id": "SrbaMa9WDwQ4"
      },
      "source": [
        "#### Câu c:"
      ]
    },
    {
      "cell_type": "markdown",
      "metadata": {
        "id": "LiU6cvA8XbR6"
      },
      "source": [
        "Ta có:  \n",
        "Prior:\n",
        "$$\n",
        "e ∼ \\text{Exp}(1), θ = 1 + e, \\space \\text{và } θ \\leq 2\n",
        "$$\n",
        "Likelihood:\n",
        "$$\n",
        "X_i | θ = U(0, θ), θ \\geq \\max_iX_i\n",
        "$$\n",
        "Suy ra Posterior:\n",
        "$$\n",
        "p(\\theta|X) ∝ e^{(θ - 1)} θ^{-n} \\text{ trên }[\\max{X}, 2]\n",
        "$$"
      ]
    },
    {
      "cell_type": "code",
      "execution_count": 63,
      "metadata": {
        "colab": {
          "base_uri": "https://localhost:8080/",
          "height": 728,
          "referenced_widgets": [
            "63cc50638b42421986e4e4d54ec6ede9",
            "f3ac7a31323342588046dfeda99f5046"
          ]
        },
        "id": "AK6UeyGRECdF",
        "outputId": "b312cb56-5189-47a9-9594-380f386e8276"
      },
      "outputs": [
        {
          "data": {
            "application/vnd.jupyter.widget-view+json": {
              "model_id": "63cc50638b42421986e4e4d54ec6ede9",
              "version_major": 2,
              "version_minor": 0
            },
            "text/plain": [
              "Output()"
            ]
          },
          "metadata": {},
          "output_type": "display_data"
        },
        {
          "data": {
            "text/html": [
              "<pre style=\"white-space:pre;overflow-x:auto;line-height:normal;font-family:Menlo,'DejaVu Sans Mono',consolas,'Courier New',monospace\"></pre>\n"
            ],
            "text/plain": []
          },
          "metadata": {},
          "output_type": "display_data"
        },
        {
          "name": "stderr",
          "output_type": "stream",
          "text": [
            "ERROR:pymc.stats.convergence:There were 3091 divergences after tuning. Increase `target_accept` or reparameterize.\n"
          ]
        },
        {
          "name": "stdout",
          "output_type": "stream",
          "text": [
            "         mean      sd  hdi_3%  hdi_97%  mcse_mean  mcse_sd  ess_bulk  \\\n",
            "theta  1.5515  0.0654    1.49   1.6645      0.003   0.0034  442.5708   \n",
            "\n",
            "       ess_tail   r_hat  \n",
            "theta  785.7287  1.0025  \n",
            "\n",
            "Posterior mean (Bayes‐estimate) = 1.5515\n",
            "Posterior SD                    = 0.0654\n"
          ]
        },
        {
          "data": {
            "text/plain": [
              "<Axes: title={'center': 'theta'}>"
            ]
          },
          "execution_count": 63,
          "metadata": {},
          "output_type": "execute_result"
        },
        {
          "data": {
            "image/png": "[encoded data removed]",
            "text/plain": [
              "<Figure size 640x480 with 1 Axes>"
            ]
          },
          "metadata": {},
          "output_type": "display_data"
        }
      ],
      "source": [
        "\n",
        "x_max = X.max()\n",
        "\n",
        "# ——— 2. Mô hình Bayes trong PyMC ———\n",
        "with pm.Model() as model:\n",
        "    # 2.1) e ~ Exp(1) → θ = 1 + e\n",
        "    e = pm.Exponential(\"e\", lam=1.0)\n",
        "    theta = pm.Deterministic(\"theta\", 1 + e)\n",
        "\n",
        "    # 2.2) Ràng buộc θ ≤ 2\n",
        "    pm.Potential(\"bound\", pm.math.switch(theta <= 2, 0, -np.inf))\n",
        "\n",
        "    # 2.3) Likelihood: X_i ~ Uniform(0, θ)\n",
        "    pm.Uniform(\"X_obs\", lower=0.0, upper=theta, observed=X)\n",
        "\n",
        "    # 3) Lấy mẫu hậu nghiệm\n",
        "    trace = pm.sample(\n",
        "        draws=3000,\n",
        "        tune=1500,\n",
        "        target_accept=0.9,\n",
        "        return_inferencedata=True,\n",
        "        random_seed=42\n",
        "    )\n",
        "\n",
        "# ——— 4. Tóm tắt kết quả ———\n",
        "summary = az.summary(trace, var_names=[\"theta\"], round_to=4)\n",
        "theta_mean = summary.loc[\"theta\", \"mean\"]\n",
        "theta_sd   = summary.loc[\"theta\", \"sd\"]\n",
        "\n",
        "print(summary)\n",
        "print(f\"\\nPosterior mean (Bayes‐estimate) = {theta_mean:.4f}\")\n",
        "print(f\"Posterior SD                    = {theta_sd:.4f}\")\n",
        "\n",
        "# ——— 5. (Tuỳ chọn) Vẽ phân phối hậu nghiệm ———\n",
        "az.plot_posterior(trace, var_names=[\"theta\"], hdi_prob=0.95)\n"
      ]
    },
    {
      "cell_type": "markdown",
      "metadata": {
        "id": "fd0yh-5sayB_"
      },
      "source": [
        "**So sánh**"
      ]
    },
    {
      "cell_type": "code",
      "execution_count": 64,
      "metadata": {
        "colab": {
          "base_uri": "https://localhost:8080/",
          "height": 206
        },
        "id": "E5r2HvYea3KO",
        "outputId": "65bcdccb-5859-430e-a17d-001a59212cbe"
      },
      "outputs": [
        {
          "data": {
            "application/vnd.google.colaboratory.intrinsic+json": {
              "summary": "{\n  \"name\": \"df_compare\",\n  \"rows\": 5,\n  \"fields\": [\n    {\n      \"column\": \"Estimator\",\n      \"properties\": {\n        \"dtype\": \"string\",\n        \"num_unique_values\": 5,\n        \"samples\": [\n          \"T2 = 2\\u00b7median\",\n          \"Bayes \\u03b8\",\n          \"T3 = 2\\u221a3\\u00b7std\"\n        ],\n        \"semantic_type\": \"\",\n        \"description\": \"\"\n      }\n    },\n    {\n      \"column\": \"Mean\",\n      \"properties\": {\n        \"dtype\": \"number\",\n        \"std\": 0.1333511583574866,\n        \"min\": 1.25,\n        \"max\": 1.5546955524698605,\n        \"num_unique_values\": 5,\n        \"samples\": [\n          1.25,\n          1.5515,\n          1.5546955524698605\n        ],\n        \"semantic_type\": \"\",\n        \"description\": \"\"\n      }\n    },\n    {\n      \"column\": \"SE\",\n      \"properties\": {\n        \"dtype\": \"number\",\n        \"std\": 0.09541485013826324,\n        \"min\": 0.0654,\n        \"max\": 0.3051532918455123,\n        \"num_unique_values\": 5,\n        \"samples\": [\n          0.3051532918455123,\n          0.0654,\n          0.1508731328915765\n        ],\n        \"semantic_type\": \"\",\n        \"description\": \"\"\n      }\n    }\n  ]\n}",
              "type": "dataframe",
              "variable_name": "df_compare"
            },
            "text/html": [
              "\n",
              "  <div id=\"df-09574d03-f99d-42f3-bc34-8a1f213df277\" class=\"colab-df-container\">\n",
              "    <div>\n",
              "<style scoped>\n",
              "    .dataframe tbody tr th:only-of-type {\n",
              "        vertical-align: middle;\n",
              "    }\n",
              "\n",
              "    .dataframe tbody tr th {\n",
              "        vertical-align: top;\n",
              "    }\n",
              "\n",
              "    .dataframe thead th {\n",
              "        text-align: right;\n",
              "    }\n",
              "</style>\n",
              "<table border=\"1\" class=\"dataframe\">\n",
              "  <thead>\n",
              "    <tr style=\"text-align: right;\">\n",
              "      <th></th>\n",
              "      <th>Estimator</th>\n",
              "      <th>Mean</th>\n",
              "      <th>SE</th>\n",
              "    </tr>\n",
              "  </thead>\n",
              "  <tbody>\n",
              "    <tr>\n",
              "      <th>0</th>\n",
              "      <td>T1 = 2·mean</td>\n",
              "      <td>1.356667</td>\n",
              "      <td>0.179065</td>\n",
              "    </tr>\n",
              "    <tr>\n",
              "      <th>1</th>\n",
              "      <td>T2 = 2·median</td>\n",
              "      <td>1.250000</td>\n",
              "      <td>0.305153</td>\n",
              "    </tr>\n",
              "    <tr>\n",
              "      <th>2</th>\n",
              "      <td>T3 = 2√3·std</td>\n",
              "      <td>1.554696</td>\n",
              "      <td>0.150873</td>\n",
              "    </tr>\n",
              "    <tr>\n",
              "      <th>3</th>\n",
              "      <td>T4 = max</td>\n",
              "      <td>1.490000</td>\n",
              "      <td>0.082485</td>\n",
              "    </tr>\n",
              "    <tr>\n",
              "      <th>4</th>\n",
              "      <td>Bayes θ</td>\n",
              "      <td>1.551500</td>\n",
              "      <td>0.065400</td>\n",
              "    </tr>\n",
              "  </tbody>\n",
              "</table>\n",
              "</div>\n",
              "    <div class=\"colab-df-buttons\">\n",
              "\n",
              "  <div class=\"colab-df-container\">\n",
              "    <button class=\"colab-df-convert\" onclick=\"convertToInteractive('df-09574d03-f99d-42f3-bc34-8a1f213df277')\"\n",
              "            title=\"Convert this dataframe to an interactive table.\"\n",
              "            style=\"display:none;\">\n",
              "\n",
              "  <svg xmlns=\"http://www.w3.org/2000/svg\" height=\"24px\" viewBox=\"0 -960 960 960\">\n",
              "    <path d=\"M120-120v-720h720v720H120Zm60-500h600v-160H180v160Zm220 220h160v-160H400v160Zm0 220h160v-160H400v160ZM180-400h160v-160H180v160Zm440 0h160v-160H620v160ZM180-180h160v-160H180v160Zm440 0h160v-160H620v160Z\"/>\n",
              "  </svg>\n",
              "    </button>\n",
              "\n",
              "  <style>\n",
              "    .colab-df-container {\n",
              "      display:flex;\n",
              "      gap: 12px;\n",
              "    }\n",
              "\n",
              "    .colab-df-convert {\n",
              "      background-color: #E8F0FE;\n",
              "      border: none;\n",
              "      border-radius: 50%;\n",
              "      cursor: pointer;\n",
              "      display: none;\n",
              "      fill: #1967D2;\n",
              "      height: 32px;\n",
              "      padding: 0 0 0 0;\n",
              "      width: 32px;\n",
              "    }\n",
              "\n",
              "    .colab-df-convert:hover {\n",
              "      background-color: #E2EBFA;\n",
              "      box-shadow: 0px 1px 2px rgba(60, 64, 67, 0.3), 0px 1px 3px 1px rgba(60, 64, 67, 0.15);\n",
              "      fill: #174EA6;\n",
              "    }\n",
              "\n",
              "    .colab-df-buttons div {\n",
              "      margin-bottom: 4px;\n",
              "    }\n",
              "\n",
              "    [theme=dark] .colab-df-convert {\n",
              "      background-color: #3B4455;\n",
              "      fill: #D2E3FC;\n",
              "    }\n",
              "\n",
              "    [theme=dark] .colab-df-convert:hover {\n",
              "      background-color: #434B5C;\n",
              "      box-shadow: 0px 1px 3px 1px rgba(0, 0, 0, 0.15);\n",
              "      filter: drop-shadow(0px 1px 2px rgba(0, 0, 0, 0.3));\n",
              "      fill: #FFFFFF;\n",
              "    }\n",
              "  </style>\n",
              "\n",
              "    <script>\n",
              "      const buttonEl =\n",
              "        document.querySelector('#df-09574d03-f99d-42f3-bc34-8a1f213df277 button.colab-df-convert');\n",
              "      buttonEl.style.display =\n",
              "        google.colab.kernel.accessAllowed ? 'block' : 'none';\n",
              "\n",
              "      async function convertToInteractive(key) {\n",
              "        const element = document.querySelector('#df-09574d03-f99d-42f3-bc34-8a1f213df277');\n",
              "        const dataTable =\n",
              "          await google.colab.kernel.invokeFunction('convertToInteractive',\n",
              "                                                    [key], {});\n",
              "        if (!dataTable) return;\n",
              "\n",
              "        const docLinkHtml = 'Like what you see? Visit the ' +\n",
              "          '<a target=\"_blank\" href=https://colab.research.google.com/notebooks/data_table.ipynb>data table notebook</a>'\n",
              "          + ' to learn more about interactive tables.';\n",
              "        element.innerHTML = '';\n",
              "        dataTable['output_type'] = 'display_data';\n",
              "        await google.colab.output.renderOutput(dataTable, element);\n",
              "        const docLink = document.createElement('div');\n",
              "        docLink.innerHTML = docLinkHtml;\n",
              "        element.appendChild(docLink);\n",
              "      }\n",
              "    </script>\n",
              "  </div>\n",
              "\n",
              "\n",
              "<div id=\"df-b73bb9b0-10da-407b-a4c7-1c3f5c25e9b6\">\n",
              "  <button class=\"colab-df-quickchart\" onclick=\"quickchart('df-b73bb9b0-10da-407b-a4c7-1c3f5c25e9b6')\"\n",
              "            title=\"Suggest charts\"\n",
              "            style=\"display:none;\">\n",
              "\n",
              "<svg xmlns=\"http://www.w3.org/2000/svg\" height=\"24px\"viewBox=\"0 0 24 24\"\n",
              "     width=\"24px\">\n",
              "    <g>\n",
              "        <path d=\"M19 3H5c-1.1 0-2 .9-2 2v14c0 1.1.9 2 2 2h14c1.1 0 2-.9 2-2V5c0-1.1-.9-2-2-2zM9 17H7v-7h2v7zm4 0h-2V7h2v10zm4 0h-2v-4h2v4z\"/>\n",
              "    </g>\n",
              "</svg>\n",
              "  </button>\n",
              "\n",
              "<style>\n",
              "  .colab-df-quickchart {\n",
              "      --bg-color: #E8F0FE;\n",
              "      --fill-color: #1967D2;\n",
              "      --hover-bg-color: #E2EBFA;\n",
              "      --hover-fill-color: #174EA6;\n",
              "      --disabled-fill-color: #AAA;\n",
              "      --disabled-bg-color: #DDD;\n",
              "  }\n",
              "\n",
              "  [theme=dark] .colab-df-quickchart {\n",
              "      --bg-color: #3B4455;\n",
              "      --fill-color: #D2E3FC;\n",
              "      --hover-bg-color: #434B5C;\n",
              "      --hover-fill-color: #FFFFFF;\n",
              "      --disabled-bg-color: #3B4455;\n",
              "      --disabled-fill-color: #666;\n",
              "  }\n",
              "\n",
              "  .colab-df-quickchart {\n",
              "    background-color: var(--bg-color);\n",
              "    border: none;\n",
              "    border-radius: 50%;\n",
              "    cursor: pointer;\n",
              "    display: none;\n",
              "    fill: var(--fill-color);\n",
              "    height: 32px;\n",
              "    padding: 0;\n",
              "    width: 32px;\n",
              "  }\n",
              "\n",
              "  .colab-df-quickchart:hover {\n",
              "    background-color: var(--hover-bg-color);\n",
              "    box-shadow: 0 1px 2px rgba(60, 64, 67, 0.3), 0 1px 3px 1px rgba(60, 64, 67, 0.15);\n",
              "    fill: var(--button-hover-fill-color);\n",
              "  }\n",
              "\n",
              "  .colab-df-quickchart-complete:disabled,\n",
              "  .colab-df-quickchart-complete:disabled:hover {\n",
              "    background-color: var(--disabled-bg-color);\n",
              "    fill: var(--disabled-fill-color);\n",
              "    box-shadow: none;\n",
              "  }\n",
              "\n",
              "  .colab-df-spinner {\n",
              "    border: 2px solid var(--fill-color);\n",
              "    border-color: transparent;\n",
              "    border-bottom-color: var(--fill-color);\n",
              "    animation:\n",
              "      spin 1s steps(1) infinite;\n",
              "  }\n",
              "\n",
              "  @keyframes spin {\n",
              "    0% {\n",
              "      border-color: transparent;\n",
              "      border-bottom-color: var(--fill-color);\n",
              "      border-left-color: var(--fill-color);\n",
              "    }\n",
              "    20% {\n",
              "      border-color: transparent;\n",
              "      border-left-color: var(--fill-color);\n",
              "      border-top-color: var(--fill-color);\n",
              "    }\n",
              "    30% {\n",
              "      border-color: transparent;\n",
              "      border-left-color: var(--fill-color);\n",
              "      border-top-color: var(--fill-color);\n",
              "      border-right-color: var(--fill-color);\n",
              "    }\n",
              "    40% {\n",
              "      border-color: transparent;\n",
              "      border-right-color: var(--fill-color);\n",
              "      border-top-color: var(--fill-color);\n",
              "    }\n",
              "    60% {\n",
              "      border-color: transparent;\n",
              "      border-right-color: var(--fill-color);\n",
              "    }\n",
              "    80% {\n",
              "      border-color: transparent;\n",
              "      border-right-color: var(--fill-color);\n",
              "      border-bottom-color: var(--fill-color);\n",
              "    }\n",
              "    90% {\n",
              "      border-color: transparent;\n",
              "      border-bottom-color: var(--fill-color);\n",
              "    }\n",
              "  }\n",
              "</style>\n",
              "\n",
              "  <script>\n",
              "    async function quickchart(key) {\n",
              "      const quickchartButtonEl =\n",
              "        document.querySelector('#' + key + ' button');\n",
              "      quickchartButtonEl.disabled = true;  // To prevent multiple clicks.\n",
              "      quickchartButtonEl.classList.add('colab-df-spinner');\n",
              "      try {\n",
              "        const charts = await google.colab.kernel.invokeFunction(\n",
              "            'suggestCharts', [key], {});\n",
              "      } catch (error) {\n",
              "        console.error('Error during call to suggestCharts:', error);\n",
              "      }\n",
              "      quickchartButtonEl.classList.remove('colab-df-spinner');\n",
              "      quickchartButtonEl.classList.add('colab-df-quickchart-complete');\n",
              "    }\n",
              "    (() => {\n",
              "      let quickchartButtonEl =\n",
              "        document.querySelector('#df-b73bb9b0-10da-407b-a4c7-1c3f5c25e9b6 button');\n",
              "      quickchartButtonEl.style.display =\n",
              "        google.colab.kernel.accessAllowed ? 'block' : 'none';\n",
              "    })();\n",
              "  </script>\n",
              "</div>\n",
              "\n",
              "  <div id=\"id_a7c7b5ec-c3f7-4dbe-9c70-0c589e5260ab\">\n",
              "    <style>\n",
              "      .colab-df-generate {\n",
              "        background-color: #E8F0FE;\n",
              "        border: none;\n",
              "        border-radius: 50%;\n",
              "        cursor: pointer;\n",
              "        display: none;\n",
              "        fill: #1967D2;\n",
              "        height: 32px;\n",
              "        padding: 0 0 0 0;\n",
              "        width: 32px;\n",
              "      }\n",
              "\n",
              "      .colab-df-generate:hover {\n",
              "        background-color: #E2EBFA;\n",
              "        box-shadow: 0px 1px 2px rgba(60, 64, 67, 0.3), 0px 1px 3px 1px rgba(60, 64, 67, 0.15);\n",
              "        fill: #174EA6;\n",
              "      }\n",
              "\n",
              "      [theme=dark] .colab-df-generate {\n",
              "        background-color: #3B4455;\n",
              "        fill: #D2E3FC;\n",
              "      }\n",
              "\n",
              "      [theme=dark] .colab-df-generate:hover {\n",
              "        background-color: #434B5C;\n",
              "        box-shadow: 0px 1px 3px 1px rgba(0, 0, 0, 0.15);\n",
              "        filter: drop-shadow(0px 1px 2px rgba(0, 0, 0, 0.3));\n",
              "        fill: #FFFFFF;\n",
              "      }\n",
              "    </style>\n",
              "    <button class=\"colab-df-generate\" onclick=\"generateWithVariable('df_compare')\"\n",
              "            title=\"Generate code using this dataframe.\"\n",
              "            style=\"display:none;\">\n",
              "\n",
              "  <svg xmlns=\"http://www.w3.org/2000/svg\" height=\"24px\"viewBox=\"0 0 24 24\"\n",
              "       width=\"24px\">\n",
              "    <path d=\"M7,19H8.4L18.45,9,17,7.55,7,17.6ZM5,21V16.75L18.45,3.32a2,2,0,0,1,2.83,0l1.4,1.43a1.91,1.91,0,0,1,.58,1.4,1.91,1.91,0,0,1-.58,1.4L9.25,21ZM18.45,9,17,7.55Zm-12,3A5.31,5.31,0,0,0,4.9,8.1,5.31,5.31,0,0,0,1,6.5,5.31,5.31,0,0,0,4.9,4.9,5.31,5.31,0,0,0,6.5,1,5.31,5.31,0,0,0,8.1,4.9,5.31,5.31,0,0,0,12,6.5,5.46,5.46,0,0,0,6.5,12Z\"/>\n",
              "  </svg>\n",
              "    </button>\n",
              "    <script>\n",
              "      (() => {\n",
              "      const buttonEl =\n",
              "        document.querySelector('#id_a7c7b5ec-c3f7-4dbe-9c70-0c589e5260ab button.colab-df-generate');\n",
              "      buttonEl.style.display =\n",
              "        google.colab.kernel.accessAllowed ? 'block' : 'none';\n",
              "\n",
              "      buttonEl.onclick = () => {\n",
              "        google.colab.notebook.generateWithVariable('df_compare');\n",
              "      }\n",
              "      })();\n",
              "    </script>\n",
              "  </div>\n",
              "\n",
              "    </div>\n",
              "  </div>\n"
            ],
            "text/plain": [
              "       Estimator      Mean        SE\n",
              "0    T1 = 2·mean  1.356667  0.179065\n",
              "1  T2 = 2·median  1.250000  0.305153\n",
              "2   T3 = 2√3·std  1.554696  0.150873\n",
              "3       T4 = max  1.490000  0.082485\n",
              "4        Bayes θ  1.551500  0.065400"
            ]
          },
          "execution_count": 64,
          "metadata": {},
          "output_type": "execute_result"
        }
      ],
      "source": [
        "# 6) So sánh vào DataFrame\n",
        "se_T1 = np.std(T1_boot, ddof=1)\n",
        "se_T2 = np.std(T2_boot, ddof=1)\n",
        "se_T3 = np.std(T3_boot, ddof=1)\n",
        "se_T4 = np.std(T4_boot, ddof=1)\n",
        "df_compare = pd.DataFrame({\n",
        "    \"Estimator\": [\"T1 = 2·mean\", \"T2 = 2·median\", \"T3 = 2√3·std\", \"T4 = max\", \"Bayes θ\"],\n",
        "    \"Mean\":     [T1, T2, T3, T4, theta_mean],\n",
        "    \"SE\":       [se_T1, se_T2, se_T3, se_T4, theta_sd]\n",
        "})\n",
        "\n",
        "df_compare"
      ]
    },
    {
      "cell_type": "markdown",
      "metadata": {
        "id": "2wiz9nwHbhq9"
      },
      "source": [
        "**Nhận xét :**\n",
        "1. Sai số chuẩn (SE) thấp nhất là Bayes θ (0.065), tiếp theo là T4 = max (0.084).\n",
        "  - Điều này cho thấy khi có thêm thông tin tiên nghiệm $(Exp(1), θ \\leq 2)$, ước lượng Bayes dao động rất ít quanh giá trị trung bình hậu nghiệm.\n",
        "  - ước lượng $\\max{X}$ cũng ít dao động vì nó luôn bám sát giá trị lớn nhất quan sát được, nhưng lại thường lệch âm (thường nhỏ hơn $θ$ thật).\n",
        "2. $T_3 = 2\\sqrt{3}S$ có $SE$ cỡ 0.15, thấp hơn một chút so với $T_1 = 2 \\bar{X}(0.18)$\n",
        "  - Ở mẫu này, dùng độ lệch chuẩn nhân hệ số $2\\sqrt{3}$ hơi mạnh tay nên ước lượng hơi lớn $≈ 1.55$ và cũng ổn định hơn $2\\bar{X}$\n",
        "3. $T_1 = 2 \\bar{X}$ có $SE ≈ 0.18$, là ước lượng không chệch cho $θ$ (với $U(0, θ)$ thì $E[2\\bar{X}] = θ$) nhưng biến động tương đối lớn.\n",
        "4. $T_2 = 2\\hat{m}$ có $SE$ cao nhất $≈0.3$."
      ]
    },
    {
      "cell_type": "markdown",
      "metadata": {
        "id": "SYOVd2QIexrN"
      },
      "source": [
        "### Phần 2:"
      ]
    },
    {
      "cell_type": "markdown",
      "metadata": {
        "id": "R134g3gKez9P"
      },
      "source": [
        "#### Câu d:"
      ]
    },
    {
      "cell_type": "markdown",
      "metadata": {
        "id": "OfkZim5ffXDx"
      },
      "source": [
        "Sử dụng hàm `np.corrcoef` để tính hệ số tương quan"
      ]
    },
    {
      "cell_type": "code",
      "execution_count": 65,
      "metadata": {
        "colab": {
          "base_uri": "https://localhost:8080/"
        },
        "id": "ow1Ga6pke1_8",
        "outputId": "780b52bb-7346-4cb9-e1ac-524b051e83e7"
      },
      "outputs": [
        {
          "name": "stdout",
          "output_type": "stream",
          "text": [
            "Hệ số tương quan mẫu r = 0.9260\n"
          ]
        }
      ],
      "source": [
        "Y = np.array([2.38,1.03,1.00,0.90,0.93,0.90,1.06,1.16,1.57,1.22,2.18,0.91,\n",
        "              3.32,0.99,2.12,1.21,1.65,0.90,0.91,2.82,3.98,1.01,2.25,3.32])\n",
        "r = np.corrcoef(X, Y)[0, 1]\n",
        "print(f\"Hệ số tương quan mẫu r = {r:.4f}\")"
      ]
    },
    {
      "cell_type": "markdown",
      "metadata": {
        "id": "c0zXSymkfk0b"
      },
      "source": [
        "#### Câu e:"
      ]
    },
    {
      "cell_type": "markdown",
      "metadata": {
        "id": "Myu6JYNOf0x9"
      },
      "source": [
        "1. Giả thuyết\n",
        " - $H_0 : ρ = 0$ (không tương quan)\n",
        " - $H_1 : ρ \\neq 0$ (có tương quan)  \n",
        "2.Ta chọn mức ý nghĩa $α = 0.05$ nếu p-value $< α$ thì bác bỏ $H_0$."
      ]
    },
    {
      "cell_type": "code",
      "execution_count": 66,
      "metadata": {
        "colab": {
          "base_uri": "https://localhost:8080/"
        },
        "id": "hXNF5z64gYER",
        "outputId": "09e63add-0520-4f1e-de87-b70177624d5a"
      },
      "outputs": [
        {
          "name": "stdout",
          "output_type": "stream",
          "text": [
            "Hệ số tương quan Pearson r = 0.9260\n",
            "p-value = 8.828e-11\n",
            "p-value < 0.05 → bác bỏ H0: có bằng chứng thống kê cho thấy X và Y có tương quan.\n"
          ]
        }
      ],
      "source": [
        "r_value, p_value = pearsonr(X, Y)\n",
        "\n",
        "print(f\"Hệ số tương quan Pearson r = {r_value:.4f}\")\n",
        "print(f\"p-value = {p_value:.4g}\")\n",
        "\n",
        "# Kết luận\n",
        "alpha = 0.05\n",
        "if p_value < alpha:\n",
        "    print(f\"p-value < {alpha} → bác bỏ H0: có bằng chứng thống kê cho thấy X và Y có tương quan.\")\n",
        "else:\n",
        "    print(f\"p-value ≥ {alpha} → không đủ chứng cứ để bác bỏ H0: chưa có bằng chứng tương quan.\")"
      ]
    },
    {
      "cell_type": "markdown",
      "metadata": {
        "id": "7aqQ_770iATm"
      },
      "source": [
        "#### Câu f:"
      ]
    },
    {
      "cell_type": "markdown",
      "metadata": {
        "id": "ZVXKAYLwmSTq"
      },
      "source": [
        "**Ý tưởng:**\n",
        "- Ta tính hệ số tương quan mẫu $r_{obs}$ giữa $X, Y$\n",
        "- Giả thuyết $H_0 :$ \"Không có sự tương quan\" (tức là mọi liên kết)giữa $X, Y$ chỉ là ngẫu nhiên.\n",
        "- Permutation test dùng ý tưởng: nếu thật sự không có tương quan, thì ta có thể “xáo trộn” trật tự của $Y$ mà không làm thay đổi phân phối chung, và mọi hoán vị như nhau.\n",
        "**Cách làm:**\n",
        "1. Tính $r_{obs}$\n",
        "2. Lặp lại $N$ lần:\n",
        "  - Tạo 1 bản sao hoán vị của $Y$.\n",
        "  - Tính $r^{*}_i = corr(X, Y)$.\n",
        "3. Tập hợp $\\{r^*_1, r^*_2, \\cdots, r^*_n\\}$ là phân phối giả của $r$ dưới $H_0$.\n",
        "4. P-value được ước lượng như sau:\n",
        "$$\n",
        "  p = \\frac{1}{N}\\sum_{i = 1}^N1(|r^*_i|\\geq|r_{obs}|)\n",
        "$$\n",
        "5. So sánh với mức ý nghĩa $α$\n"
      ]
    },
    {
      "cell_type": "code",
      "execution_count": 67,
      "metadata": {
        "colab": {
          "base_uri": "https://localhost:8080/"
        },
        "id": "jBTrlvlBiC5c",
        "outputId": "e0634dc7-f50c-4a0b-b833-f1c0d48523e6"
      },
      "outputs": [
        {
          "name": "stdout",
          "output_type": "stream",
          "text": [
            "r thực tế       = 0.9260\n",
            "P-value (hoán vị) = 0.0\n",
            "p-value < 0.05 → bác bỏ H0: có bằng chứng thống kê cho thấy X và Y có tương quan.\n"
          ]
        }
      ],
      "source": [
        "\n",
        "def rand_perm(x, y):\n",
        "    \"\"\"Xáo trộn y, tính tương quan mới sau khi hoán vị\"\"\"\n",
        "    y_perm = np.random.permutation(y)\n",
        "    return np.corrcoef(x, y_perm)[0, 1]\n",
        "\n",
        "N = 100000\n",
        "samples = np.fromiter((rand_perm(X, Y) for _ in range(N)), dtype=float)\n",
        "\n",
        "# 5. P-value\n",
        "p_perm = np.mean(np.abs(samples) >= abs(r))\n",
        "\n",
        "# 6. Kết quả\n",
        "print(f\"r thực tế       = {r:.4f}\")\n",
        "print(f\"P-value (hoán vị) = {p_perm}\")\n",
        "if p_perm < alpha:\n",
        "    print(f\"p-value < {alpha} → bác bỏ H0: có bằng chứng thống kê cho thấy X và Y có tương quan.\")\n",
        "else:\n",
        "    print(f\"p-value ≥ {alpha} → không đủ chứng cứ để bác bỏ H0: chưa có bằng chứng tương quan.\")"
      ]
    },
    {
      "cell_type": "markdown",
      "metadata": {
        "id": "MCXbvJmyns18"
      },
      "source": [
        "**Kết luận :**\n",
        "Như vậy ta cũng thấy $p < α$ cho nên \"bác bỏ giả thuyết $X, Y$ không có tương quan\".  \n",
        "**So sánh với câu e:**\n",
        "- Câu e dùng công thức lý thuyết (Pearson), giả định $X, Y$ bậc tự do và phân phối gần chuẩn để cho p‑value.\n",
        "- Câu f dùng hóa trị dữ liệu qua hoán vị, không cần giả định phân phối, chỉ dựa trên tính hoán vị dưới $H_0$."
      ]
    },
    {
      "cell_type": "markdown",
      "metadata": {
        "id": "QmnVFQYdok5e"
      },
      "source": [
        "### Phần 3:"
      ]
    },
    {
      "cell_type": "markdown",
      "metadata": {
        "id": "lSJZl1FizbGW"
      },
      "source": [
        "#### Câu g:"
      ]
    },
    {
      "cell_type": "markdown",
      "metadata": {
        "id": "5xPoHgUjzdKi"
      },
      "source": [
        "Ta có:\n",
        "$$\n",
        "Y = a + bx + cx^2 + ϵ\n",
        "$$\n",
        "Ta viết $X, Y$ lại dưới dạng ma trận:\n",
        "$$\n",
        "X = \\begin{pmatrix}\n",
        "1 && x_1 && x_1^2 \\\\\n",
        "1 && x_2 && x_2^2 \\\\\n",
        "\\vdots && \\vdots && \\vdots \\\\\n",
        "1 && x_n && x_n^2\n",
        "\\end{pmatrix},\n",
        "Y = \\begin{pmatrix}\n",
        "y_1 \\\\\n",
        "y_2 \\\\\n",
        "\\vdots \\\\\n",
        "y_n\n",
        "\\end{pmatrix}\n",
        "$$\n",
        "Theo phương pháp bình phương tối thiểu bộ $(a, b, c)$ tốt nhất là:\n",
        "$$\n",
        "\\begin{pmatrix}\n",
        "a \\\\\n",
        "b \\\\\n",
        "c \\\\\n",
        "\\end{pmatrix} = (X^TX)^{-1}X^T Y\n",
        "$$"
      ]
    },
    {
      "cell_type": "code",
      "execution_count": 68,
      "metadata": {
        "colab": {
          "base_uri": "https://localhost:8080/"
        },
        "id": "noea2_x_2iiW",
        "outputId": "c16682ff-cf2b-4201-c55d-7404ffd3c258"
      },
      "outputs": [
        {
          "name": "stdout",
          "output_type": "stream",
          "text": [
            "Ước lượng a = 1.0276873197237892\n",
            "Ước lượng b = -1.0018047731332365\n",
            "Ước lượng c = 2.00082202304402\n"
          ]
        }
      ],
      "source": [
        "X_matrix = np.vstack([np.ones_like(X), X, X**2]).T\n",
        "a, b, c = np.linalg.inv(X_matrix.T @ X_matrix) @ X_matrix.T @ Y\n",
        "print(\"Ước lượng a =\", a)\n",
        "print(\"Ước lượng b =\", b)\n",
        "print(\"Ước lượng c =\", c)"
      ]
    },
    {
      "cell_type": "code",
      "execution_count": 69,
      "metadata": {
        "id": "SSp_kls0FNS_"
      },
      "outputs": [],
      "source": [
        "def y_hat(w_hat, x):\n",
        "    X_matrix = np.vstack([np.ones_like(x), x, x**2]).T\n",
        "    return X_matrix @ w_hat"
      ]
    },
    {
      "cell_type": "code",
      "execution_count": 70,
      "metadata": {
        "colab": {
          "base_uri": "https://localhost:8080/",
          "height": 455
        },
        "id": "sWXLU1fWEdnY",
        "outputId": "f39c4056-d09b-4a94-85d0-fe21f54409e0"
      },
      "outputs": [
        {
          "data": {
            "image/png": "[encoded data removed]",
            "text/plain": [
              "<Figure size 640x480 with 1 Axes>"
            ]
          },
          "metadata": {},
          "output_type": "display_data"
        }
      ],
      "source": [
        "plt.scatter(X, Y, facecolors=\"none\", edgecolors=\"blue\", label=f\"data (n = {n})\")\n",
        "t = np.linspace(0, 2, 100)\n",
        "plt.plot(t, y_hat([a, b, c], t), color=\"red\", label=f\"polynomial (degree = {2})\")\n",
        "plt.xlabel(\"$x$\")\n",
        "plt.ylabel(\"$y$\")\n",
        "plt.ylim(0.5, 5)\n",
        "plt.legend()\n",
        "plt.show()"
      ]
    },
    {
      "cell_type": "markdown",
      "metadata": {
        "id": "VMWcQOPY39o-"
      },
      "source": [
        "#### Câu h:"
      ]
    },
    {
      "cell_type": "code",
      "execution_count": 71,
      "metadata": {
        "id": "6vVkLJ7h4uOU"
      },
      "outputs": [],
      "source": [
        "#Hàm ước lượng a,b,c\n",
        "def fit_coef(Xd, Y):\n",
        "    # dùng lstsq cho nhanh\n",
        "    return np.linalg.lstsq(Xd, Y, rcond=None)[0]"
      ]
    },
    {
      "cell_type": "code",
      "execution_count": 72,
      "metadata": {
        "colab": {
          "base_uri": "https://localhost:8080/"
        },
        "id": "_G-MBnCI4xn6",
        "outputId": "399c954d-8062-455b-f1ab-aa540b5e053f"
      },
      "outputs": [
        {
          "name": "stdout",
          "output_type": "stream",
          "text": [
            "Khoảng tin cậy 95% cho a: [ 1.0230935343611116 , 1.0304692291608255 ]\n",
            "Khoảng tin cậy 95% cho b: [ -1.010545884740576 , -0.9877982055695482 ]\n",
            "Khoảng tin cậy 95% cho c: [ 1.9917287831228023 , 2.0065005971031815 ]\n"
          ]
        }
      ],
      "source": [
        "N = 10000\n",
        "boots = np.zeros((N, 3))\n",
        "for i in range(N) :\n",
        "  idx = np.random.choice(n, size=n, replace=True)  # chỉ số rút có trả lại\n",
        "  Xb = X_matrix[idx]\n",
        "  Yb = Y[idx]\n",
        "  boots[i] = fit_coef(Xb, Yb)\n",
        "\n",
        "lower = np.percentile(boots, 2.5, axis=0)\n",
        "upper = np.percentile(boots, 97.5, axis=0)\n",
        "\n",
        "print(\"Khoảng tin cậy 95% cho a:\", \"[\",lower[0], \",\", upper[0], \"]\")\n",
        "print(\"Khoảng tin cậy 95% cho b:\", \"[\",lower[1], \",\", upper[1], \"]\")\n",
        "print(\"Khoảng tin cậy 95% cho c:\", \"[\",lower[2], \",\", upper[2], \"]\")\n"
      ]
    },
    {
      "cell_type": "markdown",
      "metadata": {
        "id": "uDaIkDYq6vyc"
      },
      "source": [
        "#### Câu i:"
      ]
    },
    {
      "cell_type": "markdown",
      "metadata": {
        "id": "ik-6588n7Mm8"
      },
      "source": [
        "Ta có mô hình:\n",
        "$$\n",
        "\\hat{Y} = a + bx + cx^2\n",
        "$$\n",
        "Tại điểm $x_0 = 0.5$ ta dự đoán giá trị trung bình là:\n",
        "$$\n",
        "\\hat{y_0} = a + 0.5b + 0.5^2c\n",
        "$$\n",
        "Nhưng vì dữ liệu có sai số nên sử dụng bootstrap để ước lượng khoảng tin cậy cho $\\hat{y_0}$."
      ]
    },
    {
      "cell_type": "code",
      "execution_count": 73,
      "metadata": {
        "colab": {
          "base_uri": "https://localhost:8080/",
          "height": 504
        },
        "id": "F_JuesBd7xuy",
        "outputId": "29836758-1587-49a3-fdc5-b9ccc751f657"
      },
      "outputs": [
        {
          "name": "stdout",
          "output_type": "stream",
          "text": [
            "Dự đoán tại x0 = 0.5: y0_hat = 1.027\n",
            "Sai số chuẩn của y0: SE = 0.001\n",
            "Khoảng tin cậy 95% cho y0: [1.025, 1.029]\n"
          ]
        },
        {
          "data": {
            "image/png": "[encoded data removed]",
            "text/plain": [
              "<Figure size 640x480 with 1 Axes>"
            ]
          },
          "metadata": {},
          "output_type": "display_data"
        }
      ],
      "source": [
        "x0 = 0.5\n",
        "y0_hat = a + b*x0 + x0**2*c\n",
        "N = 10000\n",
        "y0_boot = np.zeros(N)\n",
        "for i in range (N) :\n",
        "  idx = np.random.choice(n, size=n, replace=True)\n",
        "  Xb = X_matrix[idx]\n",
        "  Yb = Y[idx]\n",
        "  a_b, b_b, c_b = fit_coef(Xb, Yb)\n",
        "  y0_boot[i] = a_b + b_b*x0 + c_b*x0**2\n",
        "se_y0 = np.std(y0_boot, ddof=1)\n",
        "ci_lower, ci_upper = np.percentile(y0_boot, [2.5, 97.5])\n",
        "\n",
        "print(f\"Dự đoán tại x0 = {x0}: y0_hat = {y0_hat:.3f}\")\n",
        "print(f\"Sai số chuẩn của y0: SE = {se_y0:.3f}\")\n",
        "print(f\"Khoảng tin cậy 95% cho y0: [{ci_lower:.3f}, {ci_upper:.3f}]\")\n",
        "plt.hist(y0_boot, bins=50, density=True)\n",
        "plt.title(\n",
        "    f\"Bootstrap distribution (y0 = {y0_hat:.4f}, n = {n}, \"\n",
        "    f\"mean = {np.mean(y0_boot):.4f}, se = {se_y0:.4f}, N = {N})\"\n",
        ")\n",
        "plt.show()"
      ]
    },
    {
      "cell_type": "markdown",
      "metadata": {
        "id": "oJN-oXDz2ppF"
      },
      "source": [
        "## Câu 2:"
      ]
    },
    {
      "cell_type": "markdown",
      "metadata": {
        "id": "g-uJ4yTD25cD"
      },
      "source": [
        "### Tiền xử lý dữ liệu"
      ]
    },
    {
      "cell_type": "code",
      "execution_count": 74,
      "metadata": {
        "colab": {
          "base_uri": "https://localhost:8080/",
          "height": 347
        },
        "id": "DfpAHxAT2-x5",
        "outputId": "710ff286-686e-4e29-8f1c-80c75423f9d0"
      },
      "outputs": [
        {
          "data": {
            "application/vnd.google.colaboratory.intrinsic+json": {
              "summary": "{\n  \"name\": \"df\",\n  \"rows\": 8760,\n  \"fields\": [\n    {\n      \"column\": \"Date\",\n      \"properties\": {\n        \"dtype\": \"category\",\n        \"num_unique_values\": 365,\n        \"samples\": [\n          \"12/06/2018\",\n          \"03/01/2018\",\n          \"16/12/2017\"\n        ],\n        \"semantic_type\": \"\",\n        \"description\": \"\"\n      }\n    },\n    {\n      \"column\": \"Rented Bike Count\",\n      \"properties\": {\n        \"dtype\": \"number\",\n        \"std\": 644,\n        \"min\": 0,\n        \"max\": 3556,\n        \"num_unique_values\": 2166,\n        \"samples\": [\n          1634,\n          2146,\n          2161\n        ],\n        \"semantic_type\": \"\",\n        \"description\": \"\"\n      }\n    },\n    {\n      \"column\": \"Hour\",\n      \"properties\": {\n        \"dtype\": \"number\",\n        \"std\": 6,\n        \"min\": 0,\n        \"max\": 23,\n        \"num_unique_values\": 24,\n        \"samples\": [\n          8,\n          16,\n          0\n        ],\n        \"semantic_type\": \"\",\n        \"description\": \"\"\n      }\n    },\n    {\n      \"column\": \"Temperature(\\u00b0C)\",\n      \"properties\": {\n        \"dtype\": \"number\",\n        \"std\": 11.944825230027941,\n        \"min\": -17.8,\n        \"max\": 39.4,\n        \"num_unique_values\": 546,\n        \"samples\": [\n          16.1,\n          -7.5,\n          12.5\n        ],\n        \"semantic_type\": \"\",\n        \"description\": \"\"\n      }\n    },\n    {\n      \"column\": \"Humidity(%)\",\n      \"properties\": {\n        \"dtype\": \"number\",\n        \"std\": 20,\n        \"min\": 0,\n        \"max\": 98,\n        \"num_unique_values\": 90,\n        \"samples\": [\n          85,\n          82,\n          28\n        ],\n        \"semantic_type\": \"\",\n        \"description\": \"\"\n      }\n    },\n    {\n      \"column\": \"Wind speed (m/s)\",\n      \"properties\": {\n        \"dtype\": \"number\",\n        \"std\": 1.0362999934025439,\n        \"min\": 0.0,\n        \"max\": 7.4,\n        \"num_unique_values\": 65,\n        \"samples\": [\n          4.9,\n          7.2,\n          2.2\n        ],\n        \"semantic_type\": \"\",\n        \"description\": \"\"\n      }\n    },\n    {\n      \"column\": \"Visibility (10m)\",\n      \"properties\": {\n        \"dtype\": \"number\",\n        \"std\": 608,\n        \"min\": 27,\n        \"max\": 2000,\n        \"num_unique_values\": 1789,\n        \"samples\": [\n          157,\n          943,\n          1481\n        ],\n        \"semantic_type\": \"\",\n        \"description\": \"\"\n      }\n    },\n    {\n      \"column\": \"Dew point temperature(\\u00b0C)\",\n      \"properties\": {\n        \"dtype\": \"number\",\n        \"std\": 13.06036933814979,\n        \"min\": -30.6,\n        \"max\": 27.2,\n        \"num_unique_values\": 556,\n        \"samples\": [\n          19.8,\n          -18.1,\n          1.3\n        ],\n        \"semantic_type\": \"\",\n        \"description\": \"\"\n      }\n    },\n    {\n      \"column\": \"Solar Radiation (MJ/m2)\",\n      \"properties\": {\n        \"dtype\": \"number\",\n        \"std\": 0.8687462422391242,\n        \"min\": 0.0,\n        \"max\": 3.52,\n        \"num_unique_values\": 345,\n        \"samples\": [\n          1.39,\n          1.54,\n          2.67\n        ],\n        \"semantic_type\": \"\",\n        \"description\": \"\"\n      }\n    },\n    {\n      \"column\": \"Rainfall(mm)\",\n      \"properties\": {\n        \"dtype\": \"number\",\n        \"std\": 1.1281929687322043,\n        \"min\": 0.0,\n        \"max\": 35.0,\n        \"num_unique_values\": 61,\n        \"samples\": [\n          0.0,\n          0.2,\n          12.0\n        ],\n        \"semantic_type\": \"\",\n        \"description\": \"\"\n      }\n    },\n    {\n      \"column\": \"Snowfall (cm)\",\n      \"properties\": {\n        \"dtype\": \"number\",\n        \"std\": 0.4367461811250087,\n        \"min\": 0.0,\n        \"max\": 8.8,\n        \"num_unique_values\": 51,\n        \"samples\": [\n          3.8,\n          3.4,\n          8.8\n        ],\n        \"semantic_type\": \"\",\n        \"description\": \"\"\n      }\n    },\n    {\n      \"column\": \"Seasons\",\n      \"properties\": {\n        \"dtype\": \"category\",\n        \"num_unique_values\": 4,\n        \"samples\": [\n          \"Spring\",\n          \"Autumn\",\n          \"Winter\"\n        ],\n        \"semantic_type\": \"\",\n        \"description\": \"\"\n      }\n    },\n    {\n      \"column\": \"Holiday\",\n      \"properties\": {\n        \"dtype\": \"category\",\n        \"num_unique_values\": 2,\n        \"samples\": [\n          \"Holiday\",\n          \"No Holiday\"\n        ],\n        \"semantic_type\": \"\",\n        \"description\": \"\"\n      }\n    },\n    {\n      \"column\": \"Functioning Day\",\n      \"properties\": {\n        \"dtype\": \"category\",\n        \"num_unique_values\": 2,\n        \"samples\": [\n          \"No\",\n          \"Yes\"\n        ],\n        \"semantic_type\": \"\",\n        \"description\": \"\"\n      }\n    }\n  ]\n}",
              "type": "dataframe",
              "variable_name": "df"
            },
            "text/html": [
              "\n",
              "  <div id=\"df-e3742ac5-8497-45a9-9476-a67e090526b2\" class=\"colab-df-container\">\n",
              "    <div>\n",
              "<style scoped>\n",
              "    .dataframe tbody tr th:only-of-type {\n",
              "        vertical-align: middle;\n",
              "    }\n",
              "\n",
              "    .dataframe tbody tr th {\n",
              "        vertical-align: top;\n",
              "    }\n",
              "\n",
              "    .dataframe thead th {\n",
              "        text-align: right;\n",
              "    }\n",
              "</style>\n",
              "<table border=\"1\" class=\"dataframe\">\n",
              "  <thead>\n",
              "    <tr style=\"text-align: right;\">\n",
              "      <th></th>\n",
              "      <th>Date</th>\n",
              "      <th>Rented Bike Count</th>\n",
              "      <th>Hour</th>\n",
              "      <th>Temperature(°C)</th>\n",
              "      <th>Humidity(%)</th>\n",
              "      <th>Wind speed (m/s)</th>\n",
              "      <th>Visibility (10m)</th>\n",
              "      <th>Dew point temperature(°C)</th>\n",
              "      <th>Solar Radiation (MJ/m2)</th>\n",
              "      <th>Rainfall(mm)</th>\n",
              "      <th>Snowfall (cm)</th>\n",
              "      <th>Seasons</th>\n",
              "      <th>Holiday</th>\n",
              "      <th>Functioning Day</th>\n",
              "    </tr>\n",
              "  </thead>\n",
              "  <tbody>\n",
              "    <tr>\n",
              "      <th>0</th>\n",
              "      <td>01/12/2017</td>\n",
              "      <td>254</td>\n",
              "      <td>0</td>\n",
              "      <td>-5.2</td>\n",
              "      <td>37</td>\n",
              "      <td>2.2</td>\n",
              "      <td>2000</td>\n",
              "      <td>-17.6</td>\n",
              "      <td>0.0</td>\n",
              "      <td>0.0</td>\n",
              "      <td>0.0</td>\n",
              "      <td>Winter</td>\n",
              "      <td>No Holiday</td>\n",
              "      <td>Yes</td>\n",
              "    </tr>\n",
              "    <tr>\n",
              "      <th>1</th>\n",
              "      <td>01/12/2017</td>\n",
              "      <td>204</td>\n",
              "      <td>1</td>\n",
              "      <td>-5.5</td>\n",
              "      <td>38</td>\n",
              "      <td>0.8</td>\n",
              "      <td>2000</td>\n",
              "      <td>-17.6</td>\n",
              "      <td>0.0</td>\n",
              "      <td>0.0</td>\n",
              "      <td>0.0</td>\n",
              "      <td>Winter</td>\n",
              "      <td>No Holiday</td>\n",
              "      <td>Yes</td>\n",
              "    </tr>\n",
              "    <tr>\n",
              "      <th>2</th>\n",
              "      <td>01/12/2017</td>\n",
              "      <td>173</td>\n",
              "      <td>2</td>\n",
              "      <td>-6.0</td>\n",
              "      <td>39</td>\n",
              "      <td>1.0</td>\n",
              "      <td>2000</td>\n",
              "      <td>-17.7</td>\n",
              "      <td>0.0</td>\n",
              "      <td>0.0</td>\n",
              "      <td>0.0</td>\n",
              "      <td>Winter</td>\n",
              "      <td>No Holiday</td>\n",
              "      <td>Yes</td>\n",
              "    </tr>\n",
              "    <tr>\n",
              "      <th>3</th>\n",
              "      <td>01/12/2017</td>\n",
              "      <td>107</td>\n",
              "      <td>3</td>\n",
              "      <td>-6.2</td>\n",
              "      <td>40</td>\n",
              "      <td>0.9</td>\n",
              "      <td>2000</td>\n",
              "      <td>-17.6</td>\n",
              "      <td>0.0</td>\n",
              "      <td>0.0</td>\n",
              "      <td>0.0</td>\n",
              "      <td>Winter</td>\n",
              "      <td>No Holiday</td>\n",
              "      <td>Yes</td>\n",
              "    </tr>\n",
              "    <tr>\n",
              "      <th>4</th>\n",
              "      <td>01/12/2017</td>\n",
              "      <td>78</td>\n",
              "      <td>4</td>\n",
              "      <td>-6.0</td>\n",
              "      <td>36</td>\n",
              "      <td>2.3</td>\n",
              "      <td>2000</td>\n",
              "      <td>-18.6</td>\n",
              "      <td>0.0</td>\n",
              "      <td>0.0</td>\n",
              "      <td>0.0</td>\n",
              "      <td>Winter</td>\n",
              "      <td>No Holiday</td>\n",
              "      <td>Yes</td>\n",
              "    </tr>\n",
              "  </tbody>\n",
              "</table>\n",
              "</div>\n",
              "    <div class=\"colab-df-buttons\">\n",
              "\n",
              "  <div class=\"colab-df-container\">\n",
              "    <button class=\"colab-df-convert\" onclick=\"convertToInteractive('df-e3742ac5-8497-45a9-9476-a67e090526b2')\"\n",
              "            title=\"Convert this dataframe to an interactive table.\"\n",
              "            style=\"display:none;\">\n",
              "\n",
              "  <svg xmlns=\"http://www.w3.org/2000/svg\" height=\"24px\" viewBox=\"0 -960 960 960\">\n",
              "    <path d=\"M120-120v-720h720v720H120Zm60-500h600v-160H180v160Zm220 220h160v-160H400v160Zm0 220h160v-160H400v160ZM180-400h160v-160H180v160Zm440 0h160v-160H620v160ZM180-180h160v-160H180v160Zm440 0h160v-160H620v160Z\"/>\n",
              "  </svg>\n",
              "    </button>\n",
              "\n",
              "  <style>\n",
              "    .colab-df-container {\n",
              "      display:flex;\n",
              "      gap: 12px;\n",
              "    }\n",
              "\n",
              "    .colab-df-convert {\n",
              "      background-color: #E8F0FE;\n",
              "      border: none;\n",
              "      border-radius: 50%;\n",
              "      cursor: pointer;\n",
              "      display: none;\n",
              "      fill: #1967D2;\n",
              "      height: 32px;\n",
              "      padding: 0 0 0 0;\n",
              "      width: 32px;\n",
              "    }\n",
              "\n",
              "    .colab-df-convert:hover {\n",
              "      background-color: #E2EBFA;\n",
              "      box-shadow: 0px 1px 2px rgba(60, 64, 67, 0.3), 0px 1px 3px 1px rgba(60, 64, 67, 0.15);\n",
              "      fill: #174EA6;\n",
              "    }\n",
              "\n",
              "    .colab-df-buttons div {\n",
              "      margin-bottom: 4px;\n",
              "    }\n",
              "\n",
              "    [theme=dark] .colab-df-convert {\n",
              "      background-color: #3B4455;\n",
              "      fill: #D2E3FC;\n",
              "    }\n",
              "\n",
              "    [theme=dark] .colab-df-convert:hover {\n",
              "      background-color: #434B5C;\n",
              "      box-shadow: 0px 1px 3px 1px rgba(0, 0, 0, 0.15);\n",
              "      filter: drop-shadow(0px 1px 2px rgba(0, 0, 0, 0.3));\n",
              "      fill: #FFFFFF;\n",
              "    }\n",
              "  </style>\n",
              "\n",
              "    <script>\n",
              "      const buttonEl =\n",
              "        document.querySelector('#df-e3742ac5-8497-45a9-9476-a67e090526b2 button.colab-df-convert');\n",
              "      buttonEl.style.display =\n",
              "        google.colab.kernel.accessAllowed ? 'block' : 'none';\n",
              "\n",
              "      async function convertToInteractive(key) {\n",
              "        const element = document.querySelector('#df-e3742ac5-8497-45a9-9476-a67e090526b2');\n",
              "        const dataTable =\n",
              "          await google.colab.kernel.invokeFunction('convertToInteractive',\n",
              "                                                    [key], {});\n",
              "        if (!dataTable) return;\n",
              "\n",
              "        const docLinkHtml = 'Like what you see? Visit the ' +\n",
              "          '<a target=\"_blank\" href=https://colab.research.google.com/notebooks/data_table.ipynb>data table notebook</a>'\n",
              "          + ' to learn more about interactive tables.';\n",
              "        element.innerHTML = '';\n",
              "        dataTable['output_type'] = 'display_data';\n",
              "        await google.colab.output.renderOutput(dataTable, element);\n",
              "        const docLink = document.createElement('div');\n",
              "        docLink.innerHTML = docLinkHtml;\n",
              "        element.appendChild(docLink);\n",
              "      }\n",
              "    </script>\n",
              "  </div>\n",
              "\n",
              "\n",
              "<div id=\"df-a0dfe687-09b4-455e-bdb0-2024be378d6c\">\n",
              "  <button class=\"colab-df-quickchart\" onclick=\"quickchart('df-a0dfe687-09b4-455e-bdb0-2024be378d6c')\"\n",
              "            title=\"Suggest charts\"\n",
              "            style=\"display:none;\">\n",
              "\n",
              "<svg xmlns=\"http://www.w3.org/2000/svg\" height=\"24px\"viewBox=\"0 0 24 24\"\n",
              "     width=\"24px\">\n",
              "    <g>\n",
              "        <path d=\"M19 3H5c-1.1 0-2 .9-2 2v14c0 1.1.9 2 2 2h14c1.1 0 2-.9 2-2V5c0-1.1-.9-2-2-2zM9 17H7v-7h2v7zm4 0h-2V7h2v10zm4 0h-2v-4h2v4z\"/>\n",
              "    </g>\n",
              "</svg>\n",
              "  </button>\n",
              "\n",
              "<style>\n",
              "  .colab-df-quickchart {\n",
              "      --bg-color: #E8F0FE;\n",
              "      --fill-color: #1967D2;\n",
              "      --hover-bg-color: #E2EBFA;\n",
              "      --hover-fill-color: #174EA6;\n",
              "      --disabled-fill-color: #AAA;\n",
              "      --disabled-bg-color: #DDD;\n",
              "  }\n",
              "\n",
              "  [theme=dark] .colab-df-quickchart {\n",
              "      --bg-color: #3B4455;\n",
              "      --fill-color: #D2E3FC;\n",
              "      --hover-bg-color: #434B5C;\n",
              "      --hover-fill-color: #FFFFFF;\n",
              "      --disabled-bg-color: #3B4455;\n",
              "      --disabled-fill-color: #666;\n",
              "  }\n",
              "\n",
              "  .colab-df-quickchart {\n",
              "    background-color: var(--bg-color);\n",
              "    border: none;\n",
              "    border-radius: 50%;\n",
              "    cursor: pointer;\n",
              "    display: none;\n",
              "    fill: var(--fill-color);\n",
              "    height: 32px;\n",
              "    padding: 0;\n",
              "    width: 32px;\n",
              "  }\n",
              "\n",
              "  .colab-df-quickchart:hover {\n",
              "    background-color: var(--hover-bg-color);\n",
              "    box-shadow: 0 1px 2px rgba(60, 64, 67, 0.3), 0 1px 3px 1px rgba(60, 64, 67, 0.15);\n",
              "    fill: var(--button-hover-fill-color);\n",
              "  }\n",
              "\n",
              "  .colab-df-quickchart-complete:disabled,\n",
              "  .colab-df-quickchart-complete:disabled:hover {\n",
              "    background-color: var(--disabled-bg-color);\n",
              "    fill: var(--disabled-fill-color);\n",
              "    box-shadow: none;\n",
              "  }\n",
              "\n",
              "  .colab-df-spinner {\n",
              "    border: 2px solid var(--fill-color);\n",
              "    border-color: transparent;\n",
              "    border-bottom-color: var(--fill-color);\n",
              "    animation:\n",
              "      spin 1s steps(1) infinite;\n",
              "  }\n",
              "\n",
              "  @keyframes spin {\n",
              "    0% {\n",
              "      border-color: transparent;\n",
              "      border-bottom-color: var(--fill-color);\n",
              "      border-left-color: var(--fill-color);\n",
              "    }\n",
              "    20% {\n",
              "      border-color: transparent;\n",
              "      border-left-color: var(--fill-color);\n",
              "      border-top-color: var(--fill-color);\n",
              "    }\n",
              "    30% {\n",
              "      border-color: transparent;\n",
              "      border-left-color: var(--fill-color);\n",
              "      border-top-color: var(--fill-color);\n",
              "      border-right-color: var(--fill-color);\n",
              "    }\n",
              "    40% {\n",
              "      border-color: transparent;\n",
              "      border-right-color: var(--fill-color);\n",
              "      border-top-color: var(--fill-color);\n",
              "    }\n",
              "    60% {\n",
              "      border-color: transparent;\n",
              "      border-right-color: var(--fill-color);\n",
              "    }\n",
              "    80% {\n",
              "      border-color: transparent;\n",
              "      border-right-color: var(--fill-color);\n",
              "      border-bottom-color: var(--fill-color);\n",
              "    }\n",
              "    90% {\n",
              "      border-color: transparent;\n",
              "      border-bottom-color: var(--fill-color);\n",
              "    }\n",
              "  }\n",
              "</style>\n",
              "\n",
              "  <script>\n",
              "    async function quickchart(key) {\n",
              "      const quickchartButtonEl =\n",
              "        document.querySelector('#' + key + ' button');\n",
              "      quickchartButtonEl.disabled = true;  // To prevent multiple clicks.\n",
              "      quickchartButtonEl.classList.add('colab-df-spinner');\n",
              "      try {\n",
              "        const charts = await google.colab.kernel.invokeFunction(\n",
              "            'suggestCharts', [key], {});\n",
              "      } catch (error) {\n",
              "        console.error('Error during call to suggestCharts:', error);\n",
              "      }\n",
              "      quickchartButtonEl.classList.remove('colab-df-spinner');\n",
              "      quickchartButtonEl.classList.add('colab-df-quickchart-complete');\n",
              "    }\n",
              "    (() => {\n",
              "      let quickchartButtonEl =\n",
              "        document.querySelector('#df-a0dfe687-09b4-455e-bdb0-2024be378d6c button');\n",
              "      quickchartButtonEl.style.display =\n",
              "        google.colab.kernel.accessAllowed ? 'block' : 'none';\n",
              "    })();\n",
              "  </script>\n",
              "</div>\n",
              "\n",
              "    </div>\n",
              "  </div>\n"
            ],
            "text/plain": [
              "         Date  Rented Bike Count  Hour  Temperature(°C)  Humidity(%)  \\\n",
              "0  01/12/2017                254     0             -5.2           37   \n",
              "1  01/12/2017                204     1             -5.5           38   \n",
              "2  01/12/2017                173     2             -6.0           39   \n",
              "3  01/12/2017                107     3             -6.2           40   \n",
              "4  01/12/2017                 78     4             -6.0           36   \n",
              "\n",
              "   Wind speed (m/s)  Visibility (10m)  Dew point temperature(°C)  \\\n",
              "0               2.2              2000                      -17.6   \n",
              "1               0.8              2000                      -17.6   \n",
              "2               1.0              2000                      -17.7   \n",
              "3               0.9              2000                      -17.6   \n",
              "4               2.3              2000                      -18.6   \n",
              "\n",
              "   Solar Radiation (MJ/m2)  Rainfall(mm)  Snowfall (cm) Seasons     Holiday  \\\n",
              "0                      0.0           0.0            0.0  Winter  No Holiday   \n",
              "1                      0.0           0.0            0.0  Winter  No Holiday   \n",
              "2                      0.0           0.0            0.0  Winter  No Holiday   \n",
              "3                      0.0           0.0            0.0  Winter  No Holiday   \n",
              "4                      0.0           0.0            0.0  Winter  No Holiday   \n",
              "\n",
              "  Functioning Day  \n",
              "0             Yes  \n",
              "1             Yes  \n",
              "2             Yes  \n",
              "3             Yes  \n",
              "4             Yes  "
            ]
          },
          "execution_count": 74,
          "metadata": {},
          "output_type": "execute_result"
        }
      ],
      "source": [
        "df = pd.read_csv(\"SeoulBikeData.csv\", encoding=\"latin1\")\n",
        "df.head()"
      ]
    },
    {
      "cell_type": "markdown",
      "metadata": {
        "id": "1EIAP6oE4LHY"
      },
      "source": [
        "**Loại bỏ cột Date**"
      ]
    },
    {
      "cell_type": "code",
      "execution_count": 75,
      "metadata": {
        "colab": {
          "base_uri": "https://localhost:8080/",
          "height": 347
        },
        "id": "8-MvOJi44OMU",
        "outputId": "247975e7-4559-4e41-9564-9ba4291c14ab"
      },
      "outputs": [
        {
          "data": {
            "application/vnd.google.colaboratory.intrinsic+json": {
              "summary": "{\n  \"name\": \"df\",\n  \"rows\": 8760,\n  \"fields\": [\n    {\n      \"column\": \"Rented Bike Count\",\n      \"properties\": {\n        \"dtype\": \"number\",\n        \"std\": 644,\n        \"min\": 0,\n        \"max\": 3556,\n        \"num_unique_values\": 2166,\n        \"samples\": [\n          1634,\n          2146,\n          2161\n        ],\n        \"semantic_type\": \"\",\n        \"description\": \"\"\n      }\n    },\n    {\n      \"column\": \"Hour\",\n      \"properties\": {\n        \"dtype\": \"number\",\n        \"std\": 6,\n        \"min\": 0,\n        \"max\": 23,\n        \"num_unique_values\": 24,\n        \"samples\": [\n          8,\n          16,\n          0\n        ],\n        \"semantic_type\": \"\",\n        \"description\": \"\"\n      }\n    },\n    {\n      \"column\": \"Temperature(\\u00b0C)\",\n      \"properties\": {\n        \"dtype\": \"number\",\n        \"std\": 11.944825230027941,\n        \"min\": -17.8,\n        \"max\": 39.4,\n        \"num_unique_values\": 546,\n        \"samples\": [\n          16.1,\n          -7.5,\n          12.5\n        ],\n        \"semantic_type\": \"\",\n        \"description\": \"\"\n      }\n    },\n    {\n      \"column\": \"Humidity(%)\",\n      \"properties\": {\n        \"dtype\": \"number\",\n        \"std\": 20,\n        \"min\": 0,\n        \"max\": 98,\n        \"num_unique_values\": 90,\n        \"samples\": [\n          85,\n          82,\n          28\n        ],\n        \"semantic_type\": \"\",\n        \"description\": \"\"\n      }\n    },\n    {\n      \"column\": \"Wind speed (m/s)\",\n      \"properties\": {\n        \"dtype\": \"number\",\n        \"std\": 1.0362999934025439,\n        \"min\": 0.0,\n        \"max\": 7.4,\n        \"num_unique_values\": 65,\n        \"samples\": [\n          4.9,\n          7.2,\n          2.2\n        ],\n        \"semantic_type\": \"\",\n        \"description\": \"\"\n      }\n    },\n    {\n      \"column\": \"Visibility (10m)\",\n      \"properties\": {\n        \"dtype\": \"number\",\n        \"std\": 608,\n        \"min\": 27,\n        \"max\": 2000,\n        \"num_unique_values\": 1789,\n        \"samples\": [\n          157,\n          943,\n          1481\n        ],\n        \"semantic_type\": \"\",\n        \"description\": \"\"\n      }\n    },\n    {\n      \"column\": \"Dew point temperature(\\u00b0C)\",\n      \"properties\": {\n        \"dtype\": \"number\",\n        \"std\": 13.06036933814979,\n        \"min\": -30.6,\n        \"max\": 27.2,\n        \"num_unique_values\": 556,\n        \"samples\": [\n          19.8,\n          -18.1,\n          1.3\n        ],\n        \"semantic_type\": \"\",\n        \"description\": \"\"\n      }\n    },\n    {\n      \"column\": \"Solar Radiation (MJ/m2)\",\n      \"properties\": {\n        \"dtype\": \"number\",\n        \"std\": 0.8687462422391242,\n        \"min\": 0.0,\n        \"max\": 3.52,\n        \"num_unique_values\": 345,\n        \"samples\": [\n          1.39,\n          1.54,\n          2.67\n        ],\n        \"semantic_type\": \"\",\n        \"description\": \"\"\n      }\n    },\n    {\n      \"column\": \"Rainfall(mm)\",\n      \"properties\": {\n        \"dtype\": \"number\",\n        \"std\": 1.1281929687322043,\n        \"min\": 0.0,\n        \"max\": 35.0,\n        \"num_unique_values\": 61,\n        \"samples\": [\n          0.0,\n          0.2,\n          12.0\n        ],\n        \"semantic_type\": \"\",\n        \"description\": \"\"\n      }\n    },\n    {\n      \"column\": \"Snowfall (cm)\",\n      \"properties\": {\n        \"dtype\": \"number\",\n        \"std\": 0.4367461811250087,\n        \"min\": 0.0,\n        \"max\": 8.8,\n        \"num_unique_values\": 51,\n        \"samples\": [\n          3.8,\n          3.4,\n          8.8\n        ],\n        \"semantic_type\": \"\",\n        \"description\": \"\"\n      }\n    },\n    {\n      \"column\": \"Seasons\",\n      \"properties\": {\n        \"dtype\": \"category\",\n        \"num_unique_values\": 4,\n        \"samples\": [\n          \"Spring\",\n          \"Autumn\",\n          \"Winter\"\n        ],\n        \"semantic_type\": \"\",\n        \"description\": \"\"\n      }\n    },\n    {\n      \"column\": \"Holiday\",\n      \"properties\": {\n        \"dtype\": \"category\",\n        \"num_unique_values\": 2,\n        \"samples\": [\n          \"Holiday\",\n          \"No Holiday\"\n        ],\n        \"semantic_type\": \"\",\n        \"description\": \"\"\n      }\n    },\n    {\n      \"column\": \"Functioning Day\",\n      \"properties\": {\n        \"dtype\": \"category\",\n        \"num_unique_values\": 2,\n        \"samples\": [\n          \"No\",\n          \"Yes\"\n        ],\n        \"semantic_type\": \"\",\n        \"description\": \"\"\n      }\n    }\n  ]\n}",
              "type": "dataframe",
              "variable_name": "df"
            },
            "text/html": [
              "\n",
              "  <div id=\"df-5c37296c-1e29-486d-b7a1-539588a4bf20\" class=\"colab-df-container\">\n",
              "    <div>\n",
              "<style scoped>\n",
              "    .dataframe tbody tr th:only-of-type {\n",
              "        vertical-align: middle;\n",
              "    }\n",
              "\n",
              "    .dataframe tbody tr th {\n",
              "        vertical-align: top;\n",
              "    }\n",
              "\n",
              "    .dataframe thead th {\n",
              "        text-align: right;\n",
              "    }\n",
              "</style>\n",
              "<table border=\"1\" class=\"dataframe\">\n",
              "  <thead>\n",
              "    <tr style=\"text-align: right;\">\n",
              "      <th></th>\n",
              "      <th>Rented Bike Count</th>\n",
              "      <th>Hour</th>\n",
              "      <th>Temperature(°C)</th>\n",
              "      <th>Humidity(%)</th>\n",
              "      <th>Wind speed (m/s)</th>\n",
              "      <th>Visibility (10m)</th>\n",
              "      <th>Dew point temperature(°C)</th>\n",
              "      <th>Solar Radiation (MJ/m2)</th>\n",
              "      <th>Rainfall(mm)</th>\n",
              "      <th>Snowfall (cm)</th>\n",
              "      <th>Seasons</th>\n",
              "      <th>Holiday</th>\n",
              "      <th>Functioning Day</th>\n",
              "    </tr>\n",
              "  </thead>\n",
              "  <tbody>\n",
              "    <tr>\n",
              "      <th>0</th>\n",
              "      <td>254</td>\n",
              "      <td>0</td>\n",
              "      <td>-5.2</td>\n",
              "      <td>37</td>\n",
              "      <td>2.2</td>\n",
              "      <td>2000</td>\n",
              "      <td>-17.6</td>\n",
              "      <td>0.0</td>\n",
              "      <td>0.0</td>\n",
              "      <td>0.0</td>\n",
              "      <td>Winter</td>\n",
              "      <td>No Holiday</td>\n",
              "      <td>Yes</td>\n",
              "    </tr>\n",
              "    <tr>\n",
              "      <th>1</th>\n",
              "      <td>204</td>\n",
              "      <td>1</td>\n",
              "      <td>-5.5</td>\n",
              "      <td>38</td>\n",
              "      <td>0.8</td>\n",
              "      <td>2000</td>\n",
              "      <td>-17.6</td>\n",
              "      <td>0.0</td>\n",
              "      <td>0.0</td>\n",
              "      <td>0.0</td>\n",
              "      <td>Winter</td>\n",
              "      <td>No Holiday</td>\n",
              "      <td>Yes</td>\n",
              "    </tr>\n",
              "    <tr>\n",
              "      <th>2</th>\n",
              "      <td>173</td>\n",
              "      <td>2</td>\n",
              "      <td>-6.0</td>\n",
              "      <td>39</td>\n",
              "      <td>1.0</td>\n",
              "      <td>2000</td>\n",
              "      <td>-17.7</td>\n",
              "      <td>0.0</td>\n",
              "      <td>0.0</td>\n",
              "      <td>0.0</td>\n",
              "      <td>Winter</td>\n",
              "      <td>No Holiday</td>\n",
              "      <td>Yes</td>\n",
              "    </tr>\n",
              "    <tr>\n",
              "      <th>3</th>\n",
              "      <td>107</td>\n",
              "      <td>3</td>\n",
              "      <td>-6.2</td>\n",
              "      <td>40</td>\n",
              "      <td>0.9</td>\n",
              "      <td>2000</td>\n",
              "      <td>-17.6</td>\n",
              "      <td>0.0</td>\n",
              "      <td>0.0</td>\n",
              "      <td>0.0</td>\n",
              "      <td>Winter</td>\n",
              "      <td>No Holiday</td>\n",
              "      <td>Yes</td>\n",
              "    </tr>\n",
              "    <tr>\n",
              "      <th>4</th>\n",
              "      <td>78</td>\n",
              "      <td>4</td>\n",
              "      <td>-6.0</td>\n",
              "      <td>36</td>\n",
              "      <td>2.3</td>\n",
              "      <td>2000</td>\n",
              "      <td>-18.6</td>\n",
              "      <td>0.0</td>\n",
              "      <td>0.0</td>\n",
              "      <td>0.0</td>\n",
              "      <td>Winter</td>\n",
              "      <td>No Holiday</td>\n",
              "      <td>Yes</td>\n",
              "    </tr>\n",
              "  </tbody>\n",
              "</table>\n",
              "</div>\n",
              "    <div class=\"colab-df-buttons\">\n",
              "\n",
              "  <div class=\"colab-df-container\">\n",
              "    <button class=\"colab-df-convert\" onclick=\"convertToInteractive('df-5c37296c-1e29-486d-b7a1-539588a4bf20')\"\n",
              "            title=\"Convert this dataframe to an interactive table.\"\n",
              "            style=\"display:none;\">\n",
              "\n",
              "  <svg xmlns=\"http://www.w3.org/2000/svg\" height=\"24px\" viewBox=\"0 -960 960 960\">\n",
              "    <path d=\"M120-120v-720h720v720H120Zm60-500h600v-160H180v160Zm220 220h160v-160H400v160Zm0 220h160v-160H400v160ZM180-400h160v-160H180v160Zm440 0h160v-160H620v160ZM180-180h160v-160H180v160Zm440 0h160v-160H620v160Z\"/>\n",
              "  </svg>\n",
              "    </button>\n",
              "\n",
              "  <style>\n",
              "    .colab-df-container {\n",
              "      display:flex;\n",
              "      gap: 12px;\n",
              "    }\n",
              "\n",
              "    .colab-df-convert {\n",
              "      background-color: #E8F0FE;\n",
              "      border: none;\n",
              "      border-radius: 50%;\n",
              "      cursor: pointer;\n",
              "      display: none;\n",
              "      fill: #1967D2;\n",
              "      height: 32px;\n",
              "      padding: 0 0 0 0;\n",
              "      width: 32px;\n",
              "    }\n",
              "\n",
              "    .colab-df-convert:hover {\n",
              "      background-color: #E2EBFA;\n",
              "      box-shadow: 0px 1px 2px rgba(60, 64, 67, 0.3), 0px 1px 3px 1px rgba(60, 64, 67, 0.15);\n",
              "      fill: #174EA6;\n",
              "    }\n",
              "\n",
              "    .colab-df-buttons div {\n",
              "      margin-bottom: 4px;\n",
              "    }\n",
              "\n",
              "    [theme=dark] .colab-df-convert {\n",
              "      background-color: #3B4455;\n",
              "      fill: #D2E3FC;\n",
              "    }\n",
              "\n",
              "    [theme=dark] .colab-df-convert:hover {\n",
              "      background-color: #434B5C;\n",
              "      box-shadow: 0px 1px 3px 1px rgba(0, 0, 0, 0.15);\n",
              "      filter: drop-shadow(0px 1px 2px rgba(0, 0, 0, 0.3));\n",
              "      fill: #FFFFFF;\n",
              "    }\n",
              "  </style>\n",
              "\n",
              "    <script>\n",
              "      const buttonEl =\n",
              "        document.querySelector('#df-5c37296c-1e29-486d-b7a1-539588a4bf20 button.colab-df-convert');\n",
              "      buttonEl.style.display =\n",
              "        google.colab.kernel.accessAllowed ? 'block' : 'none';\n",
              "\n",
              "      async function convertToInteractive(key) {\n",
              "        const element = document.querySelector('#df-5c37296c-1e29-486d-b7a1-539588a4bf20');\n",
              "        const dataTable =\n",
              "          await google.colab.kernel.invokeFunction('convertToInteractive',\n",
              "                                                    [key], {});\n",
              "        if (!dataTable) return;\n",
              "\n",
              "        const docLinkHtml = 'Like what you see? Visit the ' +\n",
              "          '<a target=\"_blank\" href=https://colab.research.google.com/notebooks/data_table.ipynb>data table notebook</a>'\n",
              "          + ' to learn more about interactive tables.';\n",
              "        element.innerHTML = '';\n",
              "        dataTable['output_type'] = 'display_data';\n",
              "        await google.colab.output.renderOutput(dataTable, element);\n",
              "        const docLink = document.createElement('div');\n",
              "        docLink.innerHTML = docLinkHtml;\n",
              "        element.appendChild(docLink);\n",
              "      }\n",
              "    </script>\n",
              "  </div>\n",
              "\n",
              "\n",
              "<div id=\"df-02d4a7d9-918d-48d0-a173-b505e3f147c8\">\n",
              "  <button class=\"colab-df-quickchart\" onclick=\"quickchart('df-02d4a7d9-918d-48d0-a173-b505e3f147c8')\"\n",
              "            title=\"Suggest charts\"\n",
              "            style=\"display:none;\">\n",
              "\n",
              "<svg xmlns=\"http://www.w3.org/2000/svg\" height=\"24px\"viewBox=\"0 0 24 24\"\n",
              "     width=\"24px\">\n",
              "    <g>\n",
              "        <path d=\"M19 3H5c-1.1 0-2 .9-2 2v14c0 1.1.9 2 2 2h14c1.1 0 2-.9 2-2V5c0-1.1-.9-2-2-2zM9 17H7v-7h2v7zm4 0h-2V7h2v10zm4 0h-2v-4h2v4z\"/>\n",
              "    </g>\n",
              "</svg>\n",
              "  </button>\n",
              "\n",
              "<style>\n",
              "  .colab-df-quickchart {\n",
              "      --bg-color: #E8F0FE;\n",
              "      --fill-color: #1967D2;\n",
              "      --hover-bg-color: #E2EBFA;\n",
              "      --hover-fill-color: #174EA6;\n",
              "      --disabled-fill-color: #AAA;\n",
              "      --disabled-bg-color: #DDD;\n",
              "  }\n",
              "\n",
              "  [theme=dark] .colab-df-quickchart {\n",
              "      --bg-color: #3B4455;\n",
              "      --fill-color: #D2E3FC;\n",
              "      --hover-bg-color: #434B5C;\n",
              "      --hover-fill-color: #FFFFFF;\n",
              "      --disabled-bg-color: #3B4455;\n",
              "      --disabled-fill-color: #666;\n",
              "  }\n",
              "\n",
              "  .colab-df-quickchart {\n",
              "    background-color: var(--bg-color);\n",
              "    border: none;\n",
              "    border-radius: 50%;\n",
              "    cursor: pointer;\n",
              "    display: none;\n",
              "    fill: var(--fill-color);\n",
              "    height: 32px;\n",
              "    padding: 0;\n",
              "    width: 32px;\n",
              "  }\n",
              "\n",
              "  .colab-df-quickchart:hover {\n",
              "    background-color: var(--hover-bg-color);\n",
              "    box-shadow: 0 1px 2px rgba(60, 64, 67, 0.3), 0 1px 3px 1px rgba(60, 64, 67, 0.15);\n",
              "    fill: var(--button-hover-fill-color);\n",
              "  }\n",
              "\n",
              "  .colab-df-quickchart-complete:disabled,\n",
              "  .colab-df-quickchart-complete:disabled:hover {\n",
              "    background-color: var(--disabled-bg-color);\n",
              "    fill: var(--disabled-fill-color);\n",
              "    box-shadow: none;\n",
              "  }\n",
              "\n",
              "  .colab-df-spinner {\n",
              "    border: 2px solid var(--fill-color);\n",
              "    border-color: transparent;\n",
              "    border-bottom-color: var(--fill-color);\n",
              "    animation:\n",
              "      spin 1s steps(1) infinite;\n",
              "  }\n",
              "\n",
              "  @keyframes spin {\n",
              "    0% {\n",
              "      border-color: transparent;\n",
              "      border-bottom-color: var(--fill-color);\n",
              "      border-left-color: var(--fill-color);\n",
              "    }\n",
              "    20% {\n",
              "      border-color: transparent;\n",
              "      border-left-color: var(--fill-color);\n",
              "      border-top-color: var(--fill-color);\n",
              "    }\n",
              "    30% {\n",
              "      border-color: transparent;\n",
              "      border-left-color: var(--fill-color);\n",
              "      border-top-color: var(--fill-color);\n",
              "      border-right-color: var(--fill-color);\n",
              "    }\n",
              "    40% {\n",
              "      border-color: transparent;\n",
              "      border-right-color: var(--fill-color);\n",
              "      border-top-color: var(--fill-color);\n",
              "    }\n",
              "    60% {\n",
              "      border-color: transparent;\n",
              "      border-right-color: var(--fill-color);\n",
              "    }\n",
              "    80% {\n",
              "      border-color: transparent;\n",
              "      border-right-color: var(--fill-color);\n",
              "      border-bottom-color: var(--fill-color);\n",
              "    }\n",
              "    90% {\n",
              "      border-color: transparent;\n",
              "      border-bottom-color: var(--fill-color);\n",
              "    }\n",
              "  }\n",
              "</style>\n",
              "\n",
              "  <script>\n",
              "    async function quickchart(key) {\n",
              "      const quickchartButtonEl =\n",
              "        document.querySelector('#' + key + ' button');\n",
              "      quickchartButtonEl.disabled = true;  // To prevent multiple clicks.\n",
              "      quickchartButtonEl.classList.add('colab-df-spinner');\n",
              "      try {\n",
              "        const charts = await google.colab.kernel.invokeFunction(\n",
              "            'suggestCharts', [key], {});\n",
              "      } catch (error) {\n",
              "        console.error('Error during call to suggestCharts:', error);\n",
              "      }\n",
              "      quickchartButtonEl.classList.remove('colab-df-spinner');\n",
              "      quickchartButtonEl.classList.add('colab-df-quickchart-complete');\n",
              "    }\n",
              "    (() => {\n",
              "      let quickchartButtonEl =\n",
              "        document.querySelector('#df-02d4a7d9-918d-48d0-a173-b505e3f147c8 button');\n",
              "      quickchartButtonEl.style.display =\n",
              "        google.colab.kernel.accessAllowed ? 'block' : 'none';\n",
              "    })();\n",
              "  </script>\n",
              "</div>\n",
              "\n",
              "    </div>\n",
              "  </div>\n"
            ],
            "text/plain": [
              "   Rented Bike Count  Hour  Temperature(°C)  Humidity(%)  Wind speed (m/s)  \\\n",
              "0                254     0             -5.2           37               2.2   \n",
              "1                204     1             -5.5           38               0.8   \n",
              "2                173     2             -6.0           39               1.0   \n",
              "3                107     3             -6.2           40               0.9   \n",
              "4                 78     4             -6.0           36               2.3   \n",
              "\n",
              "   Visibility (10m)  Dew point temperature(°C)  Solar Radiation (MJ/m2)  \\\n",
              "0              2000                      -17.6                      0.0   \n",
              "1              2000                      -17.6                      0.0   \n",
              "2              2000                      -17.7                      0.0   \n",
              "3              2000                      -17.6                      0.0   \n",
              "4              2000                      -18.6                      0.0   \n",
              "\n",
              "   Rainfall(mm)  Snowfall (cm) Seasons     Holiday Functioning Day  \n",
              "0           0.0            0.0  Winter  No Holiday             Yes  \n",
              "1           0.0            0.0  Winter  No Holiday             Yes  \n",
              "2           0.0            0.0  Winter  No Holiday             Yes  \n",
              "3           0.0            0.0  Winter  No Holiday             Yes  \n",
              "4           0.0            0.0  Winter  No Holiday             Yes  "
            ]
          },
          "execution_count": 75,
          "metadata": {},
          "output_type": "execute_result"
        }
      ],
      "source": [
        "df = df.drop(columns=['Date'])\n",
        "df.head()"
      ]
    },
    {
      "cell_type": "markdown",
      "metadata": {
        "id": "RV34pUYM6WvX"
      },
      "source": [
        "**Xử lý các cột không phải số**\n",
        "Với cột Season ta sẽ tách ra thành 4 cột để tính hệ số tương quan cho chuẩn."
      ]
    },
    {
      "cell_type": "code",
      "execution_count": 76,
      "metadata": {
        "id": "EhxJ7Tne6tDP"
      },
      "outputs": [],
      "source": [
        "df['Holiday'] = df['Holiday'].map({\n",
        "    'No Holiday': 0,\n",
        "    'Holiday':    1\n",
        "})\n",
        "\n",
        "df['Functioning Day'] = df['Functioning Day'].map({\n",
        "    'No':  0,\n",
        "    'Yes': 1\n",
        "})\n",
        "# Tạo các cột dummy\n",
        "dummies = pd.get_dummies(df['Seasons'], prefix='Season')\n",
        "\n",
        "# Nối vào df\n",
        "df = pd.concat([df, dummies], axis=1)\n",
        "\n",
        "# Xóa cột gốc\n",
        "df.drop(columns=['Seasons'], inplace=True)\n"
      ]
    },
    {
      "cell_type": "code",
      "execution_count": 77,
      "metadata": {
        "colab": {
          "base_uri": "https://localhost:8080/",
          "height": 261
        },
        "id": "N9qY-Nc17UOo",
        "outputId": "f7d5e73b-88ad-458e-da9f-7371c0992e67"
      },
      "outputs": [
        {
          "data": {
            "application/vnd.google.colaboratory.intrinsic+json": {
              "summary": "{\n  \"name\": \"df\",\n  \"rows\": 8760,\n  \"fields\": [\n    {\n      \"column\": \"Rented Bike Count\",\n      \"properties\": {\n        \"dtype\": \"number\",\n        \"std\": 644,\n        \"min\": 0,\n        \"max\": 3556,\n        \"num_unique_values\": 2166,\n        \"samples\": [\n          1634,\n          2146,\n          2161\n        ],\n        \"semantic_type\": \"\",\n        \"description\": \"\"\n      }\n    },\n    {\n      \"column\": \"Hour\",\n      \"properties\": {\n        \"dtype\": \"number\",\n        \"std\": 6,\n        \"min\": 0,\n        \"max\": 23,\n        \"num_unique_values\": 24,\n        \"samples\": [\n          8,\n          16,\n          0\n        ],\n        \"semantic_type\": \"\",\n        \"description\": \"\"\n      }\n    },\n    {\n      \"column\": \"Temperature(\\u00b0C)\",\n      \"properties\": {\n        \"dtype\": \"number\",\n        \"std\": 11.944825230027941,\n        \"min\": -17.8,\n        \"max\": 39.4,\n        \"num_unique_values\": 546,\n        \"samples\": [\n          16.1,\n          -7.5,\n          12.5\n        ],\n        \"semantic_type\": \"\",\n        \"description\": \"\"\n      }\n    },\n    {\n      \"column\": \"Humidity(%)\",\n      \"properties\": {\n        \"dtype\": \"number\",\n        \"std\": 20,\n        \"min\": 0,\n        \"max\": 98,\n        \"num_unique_values\": 90,\n        \"samples\": [\n          85,\n          82,\n          28\n        ],\n        \"semantic_type\": \"\",\n        \"description\": \"\"\n      }\n    },\n    {\n      \"column\": \"Wind speed (m/s)\",\n      \"properties\": {\n        \"dtype\": \"number\",\n        \"std\": 1.0362999934025439,\n        \"min\": 0.0,\n        \"max\": 7.4,\n        \"num_unique_values\": 65,\n        \"samples\": [\n          4.9,\n          7.2,\n          2.2\n        ],\n        \"semantic_type\": \"\",\n        \"description\": \"\"\n      }\n    },\n    {\n      \"column\": \"Visibility (10m)\",\n      \"properties\": {\n        \"dtype\": \"number\",\n        \"std\": 608,\n        \"min\": 27,\n        \"max\": 2000,\n        \"num_unique_values\": 1789,\n        \"samples\": [\n          157,\n          943,\n          1481\n        ],\n        \"semantic_type\": \"\",\n        \"description\": \"\"\n      }\n    },\n    {\n      \"column\": \"Dew point temperature(\\u00b0C)\",\n      \"properties\": {\n        \"dtype\": \"number\",\n        \"std\": 13.06036933814979,\n        \"min\": -30.6,\n        \"max\": 27.2,\n        \"num_unique_values\": 556,\n        \"samples\": [\n          19.8,\n          -18.1,\n          1.3\n        ],\n        \"semantic_type\": \"\",\n        \"description\": \"\"\n      }\n    },\n    {\n      \"column\": \"Solar Radiation (MJ/m2)\",\n      \"properties\": {\n        \"dtype\": \"number\",\n        \"std\": 0.8687462422391242,\n        \"min\": 0.0,\n        \"max\": 3.52,\n        \"num_unique_values\": 345,\n        \"samples\": [\n          1.39,\n          1.54,\n          2.67\n        ],\n        \"semantic_type\": \"\",\n        \"description\": \"\"\n      }\n    },\n    {\n      \"column\": \"Rainfall(mm)\",\n      \"properties\": {\n        \"dtype\": \"number\",\n        \"std\": 1.1281929687322043,\n        \"min\": 0.0,\n        \"max\": 35.0,\n        \"num_unique_values\": 61,\n        \"samples\": [\n          0.0,\n          0.2,\n          12.0\n        ],\n        \"semantic_type\": \"\",\n        \"description\": \"\"\n      }\n    },\n    {\n      \"column\": \"Snowfall (cm)\",\n      \"properties\": {\n        \"dtype\": \"number\",\n        \"std\": 0.4367461811250087,\n        \"min\": 0.0,\n        \"max\": 8.8,\n        \"num_unique_values\": 51,\n        \"samples\": [\n          3.8,\n          3.4,\n          8.8\n        ],\n        \"semantic_type\": \"\",\n        \"description\": \"\"\n      }\n    },\n    {\n      \"column\": \"Holiday\",\n      \"properties\": {\n        \"dtype\": \"number\",\n        \"std\": 0,\n        \"min\": 0,\n        \"max\": 1,\n        \"num_unique_values\": 2,\n        \"samples\": [\n          1,\n          0\n        ],\n        \"semantic_type\": \"\",\n        \"description\": \"\"\n      }\n    },\n    {\n      \"column\": \"Functioning Day\",\n      \"properties\": {\n        \"dtype\": \"number\",\n        \"std\": 0,\n        \"min\": 0,\n        \"max\": 1,\n        \"num_unique_values\": 2,\n        \"samples\": [\n          0,\n          1\n        ],\n        \"semantic_type\": \"\",\n        \"description\": \"\"\n      }\n    },\n    {\n      \"column\": \"Season_Autumn\",\n      \"properties\": {\n        \"dtype\": \"boolean\",\n        \"num_unique_values\": 2,\n        \"samples\": [\n          true,\n          false\n        ],\n        \"semantic_type\": \"\",\n        \"description\": \"\"\n      }\n    },\n    {\n      \"column\": \"Season_Spring\",\n      \"properties\": {\n        \"dtype\": \"boolean\",\n        \"num_unique_values\": 2,\n        \"samples\": [\n          true,\n          false\n        ],\n        \"semantic_type\": \"\",\n        \"description\": \"\"\n      }\n    },\n    {\n      \"column\": \"Season_Summer\",\n      \"properties\": {\n        \"dtype\": \"boolean\",\n        \"num_unique_values\": 2,\n        \"samples\": [\n          true,\n          false\n        ],\n        \"semantic_type\": \"\",\n        \"description\": \"\"\n      }\n    },\n    {\n      \"column\": \"Season_Winter\",\n      \"properties\": {\n        \"dtype\": \"boolean\",\n        \"num_unique_values\": 2,\n        \"samples\": [\n          false,\n          true\n        ],\n        \"semantic_type\": \"\",\n        \"description\": \"\"\n      }\n    }\n  ]\n}",
              "type": "dataframe",
              "variable_name": "df"
            },
            "text/html": [
              "\n",
              "  <div id=\"df-fd792570-2b30-4d92-83f4-7bf8e6ce6ce8\" class=\"colab-df-container\">\n",
              "    <div>\n",
              "<style scoped>\n",
              "    .dataframe tbody tr th:only-of-type {\n",
              "        vertical-align: middle;\n",
              "    }\n",
              "\n",
              "    .dataframe tbody tr th {\n",
              "        vertical-align: top;\n",
              "    }\n",
              "\n",
              "    .dataframe thead th {\n",
              "        text-align: right;\n",
              "    }\n",
              "</style>\n",
              "<table border=\"1\" class=\"dataframe\">\n",
              "  <thead>\n",
              "    <tr style=\"text-align: right;\">\n",
              "      <th></th>\n",
              "      <th>Rented Bike Count</th>\n",
              "      <th>Hour</th>\n",
              "      <th>Temperature(°C)</th>\n",
              "      <th>Humidity(%)</th>\n",
              "      <th>Wind speed (m/s)</th>\n",
              "      <th>Visibility (10m)</th>\n",
              "      <th>Dew point temperature(°C)</th>\n",
              "      <th>Solar Radiation (MJ/m2)</th>\n",
              "      <th>Rainfall(mm)</th>\n",
              "      <th>Snowfall (cm)</th>\n",
              "      <th>Holiday</th>\n",
              "      <th>Functioning Day</th>\n",
              "      <th>Season_Autumn</th>\n",
              "      <th>Season_Spring</th>\n",
              "      <th>Season_Summer</th>\n",
              "      <th>Season_Winter</th>\n",
              "    </tr>\n",
              "  </thead>\n",
              "  <tbody>\n",
              "    <tr>\n",
              "      <th>0</th>\n",
              "      <td>254</td>\n",
              "      <td>0</td>\n",
              "      <td>-5.2</td>\n",
              "      <td>37</td>\n",
              "      <td>2.2</td>\n",
              "      <td>2000</td>\n",
              "      <td>-17.6</td>\n",
              "      <td>0.0</td>\n",
              "      <td>0.0</td>\n",
              "      <td>0.0</td>\n",
              "      <td>0</td>\n",
              "      <td>1</td>\n",
              "      <td>False</td>\n",
              "      <td>False</td>\n",
              "      <td>False</td>\n",
              "      <td>True</td>\n",
              "    </tr>\n",
              "    <tr>\n",
              "      <th>1</th>\n",
              "      <td>204</td>\n",
              "      <td>1</td>\n",
              "      <td>-5.5</td>\n",
              "      <td>38</td>\n",
              "      <td>0.8</td>\n",
              "      <td>2000</td>\n",
              "      <td>-17.6</td>\n",
              "      <td>0.0</td>\n",
              "      <td>0.0</td>\n",
              "      <td>0.0</td>\n",
              "      <td>0</td>\n",
              "      <td>1</td>\n",
              "      <td>False</td>\n",
              "      <td>False</td>\n",
              "      <td>False</td>\n",
              "      <td>True</td>\n",
              "    </tr>\n",
              "    <tr>\n",
              "      <th>2</th>\n",
              "      <td>173</td>\n",
              "      <td>2</td>\n",
              "      <td>-6.0</td>\n",
              "      <td>39</td>\n",
              "      <td>1.0</td>\n",
              "      <td>2000</td>\n",
              "      <td>-17.7</td>\n",
              "      <td>0.0</td>\n",
              "      <td>0.0</td>\n",
              "      <td>0.0</td>\n",
              "      <td>0</td>\n",
              "      <td>1</td>\n",
              "      <td>False</td>\n",
              "      <td>False</td>\n",
              "      <td>False</td>\n",
              "      <td>True</td>\n",
              "    </tr>\n",
              "    <tr>\n",
              "      <th>3</th>\n",
              "      <td>107</td>\n",
              "      <td>3</td>\n",
              "      <td>-6.2</td>\n",
              "      <td>40</td>\n",
              "      <td>0.9</td>\n",
              "      <td>2000</td>\n",
              "      <td>-17.6</td>\n",
              "      <td>0.0</td>\n",
              "      <td>0.0</td>\n",
              "      <td>0.0</td>\n",
              "      <td>0</td>\n",
              "      <td>1</td>\n",
              "      <td>False</td>\n",
              "      <td>False</td>\n",
              "      <td>False</td>\n",
              "      <td>True</td>\n",
              "    </tr>\n",
              "    <tr>\n",
              "      <th>4</th>\n",
              "      <td>78</td>\n",
              "      <td>4</td>\n",
              "      <td>-6.0</td>\n",
              "      <td>36</td>\n",
              "      <td>2.3</td>\n",
              "      <td>2000</td>\n",
              "      <td>-18.6</td>\n",
              "      <td>0.0</td>\n",
              "      <td>0.0</td>\n",
              "      <td>0.0</td>\n",
              "      <td>0</td>\n",
              "      <td>1</td>\n",
              "      <td>False</td>\n",
              "      <td>False</td>\n",
              "      <td>False</td>\n",
              "      <td>True</td>\n",
              "    </tr>\n",
              "  </tbody>\n",
              "</table>\n",
              "</div>\n",
              "    <div class=\"colab-df-buttons\">\n",
              "\n",
              "  <div class=\"colab-df-container\">\n",
              "    <button class=\"colab-df-convert\" onclick=\"convertToInteractive('df-fd792570-2b30-4d92-83f4-7bf8e6ce6ce8')\"\n",
              "            title=\"Convert this dataframe to an interactive table.\"\n",
              "            style=\"display:none;\">\n",
              "\n",
              "  <svg xmlns=\"http://www.w3.org/2000/svg\" height=\"24px\" viewBox=\"0 -960 960 960\">\n",
              "    <path d=\"M120-120v-720h720v720H120Zm60-500h600v-160H180v160Zm220 220h160v-160H400v160Zm0 220h160v-160H400v160ZM180-400h160v-160H180v160Zm440 0h160v-160H620v160ZM180-180h160v-160H180v160Zm440 0h160v-160H620v160Z\"/>\n",
              "  </svg>\n",
              "    </button>\n",
              "\n",
              "  <style>\n",
              "    .colab-df-container {\n",
              "      display:flex;\n",
              "      gap: 12px;\n",
              "    }\n",
              "\n",
              "    .colab-df-convert {\n",
              "      background-color: #E8F0FE;\n",
              "      border: none;\n",
              "      border-radius: 50%;\n",
              "      cursor: pointer;\n",
              "      display: none;\n",
              "      fill: #1967D2;\n",
              "      height: 32px;\n",
              "      padding: 0 0 0 0;\n",
              "      width: 32px;\n",
              "    }\n",
              "\n",
              "    .colab-df-convert:hover {\n",
              "      background-color: #E2EBFA;\n",
              "      box-shadow: 0px 1px 2px rgba(60, 64, 67, 0.3), 0px 1px 3px 1px rgba(60, 64, 67, 0.15);\n",
              "      fill: #174EA6;\n",
              "    }\n",
              "\n",
              "    .colab-df-buttons div {\n",
              "      margin-bottom: 4px;\n",
              "    }\n",
              "\n",
              "    [theme=dark] .colab-df-convert {\n",
              "      background-color: #3B4455;\n",
              "      fill: #D2E3FC;\n",
              "    }\n",
              "\n",
              "    [theme=dark] .colab-df-convert:hover {\n",
              "      background-color: #434B5C;\n",
              "      box-shadow: 0px 1px 3px 1px rgba(0, 0, 0, 0.15);\n",
              "      filter: drop-shadow(0px 1px 2px rgba(0, 0, 0, 0.3));\n",
              "      fill: #FFFFFF;\n",
              "    }\n",
              "  </style>\n",
              "\n",
              "    <script>\n",
              "      const buttonEl =\n",
              "        document.querySelector('#df-fd792570-2b30-4d92-83f4-7bf8e6ce6ce8 button.colab-df-convert');\n",
              "      buttonEl.style.display =\n",
              "        google.colab.kernel.accessAllowed ? 'block' : 'none';\n",
              "\n",
              "      async function convertToInteractive(key) {\n",
              "        const element = document.querySelector('#df-fd792570-2b30-4d92-83f4-7bf8e6ce6ce8');\n",
              "        const dataTable =\n",
              "          await google.colab.kernel.invokeFunction('convertToInteractive',\n",
              "                                                    [key], {});\n",
              "        if (!dataTable) return;\n",
              "\n",
              "        const docLinkHtml = 'Like what you see? Visit the ' +\n",
              "          '<a target=\"_blank\" href=https://colab.research.google.com/notebooks/data_table.ipynb>data table notebook</a>'\n",
              "          + ' to learn more about interactive tables.';\n",
              "        element.innerHTML = '';\n",
              "        dataTable['output_type'] = 'display_data';\n",
              "        await google.colab.output.renderOutput(dataTable, element);\n",
              "        const docLink = document.createElement('div');\n",
              "        docLink.innerHTML = docLinkHtml;\n",
              "        element.appendChild(docLink);\n",
              "      }\n",
              "    </script>\n",
              "  </div>\n",
              "\n",
              "\n",
              "<div id=\"df-6f1f5064-2c42-468e-a130-290cb1c2fda6\">\n",
              "  <button class=\"colab-df-quickchart\" onclick=\"quickchart('df-6f1f5064-2c42-468e-a130-290cb1c2fda6')\"\n",
              "            title=\"Suggest charts\"\n",
              "            style=\"display:none;\">\n",
              "\n",
              "<svg xmlns=\"http://www.w3.org/2000/svg\" height=\"24px\"viewBox=\"0 0 24 24\"\n",
              "     width=\"24px\">\n",
              "    <g>\n",
              "        <path d=\"M19 3H5c-1.1 0-2 .9-2 2v14c0 1.1.9 2 2 2h14c1.1 0 2-.9 2-2V5c0-1.1-.9-2-2-2zM9 17H7v-7h2v7zm4 0h-2V7h2v10zm4 0h-2v-4h2v4z\"/>\n",
              "    </g>\n",
              "</svg>\n",
              "  </button>\n",
              "\n",
              "<style>\n",
              "  .colab-df-quickchart {\n",
              "      --bg-color: #E8F0FE;\n",
              "      --fill-color: #1967D2;\n",
              "      --hover-bg-color: #E2EBFA;\n",
              "      --hover-fill-color: #174EA6;\n",
              "      --disabled-fill-color: #AAA;\n",
              "      --disabled-bg-color: #DDD;\n",
              "  }\n",
              "\n",
              "  [theme=dark] .colab-df-quickchart {\n",
              "      --bg-color: #3B4455;\n",
              "      --fill-color: #D2E3FC;\n",
              "      --hover-bg-color: #434B5C;\n",
              "      --hover-fill-color: #FFFFFF;\n",
              "      --disabled-bg-color: #3B4455;\n",
              "      --disabled-fill-color: #666;\n",
              "  }\n",
              "\n",
              "  .colab-df-quickchart {\n",
              "    background-color: var(--bg-color);\n",
              "    border: none;\n",
              "    border-radius: 50%;\n",
              "    cursor: pointer;\n",
              "    display: none;\n",
              "    fill: var(--fill-color);\n",
              "    height: 32px;\n",
              "    padding: 0;\n",
              "    width: 32px;\n",
              "  }\n",
              "\n",
              "  .colab-df-quickchart:hover {\n",
              "    background-color: var(--hover-bg-color);\n",
              "    box-shadow: 0 1px 2px rgba(60, 64, 67, 0.3), 0 1px 3px 1px rgba(60, 64, 67, 0.15);\n",
              "    fill: var(--button-hover-fill-color);\n",
              "  }\n",
              "\n",
              "  .colab-df-quickchart-complete:disabled,\n",
              "  .colab-df-quickchart-complete:disabled:hover {\n",
              "    background-color: var(--disabled-bg-color);\n",
              "    fill: var(--disabled-fill-color);\n",
              "    box-shadow: none;\n",
              "  }\n",
              "\n",
              "  .colab-df-spinner {\n",
              "    border: 2px solid var(--fill-color);\n",
              "    border-color: transparent;\n",
              "    border-bottom-color: var(--fill-color);\n",
              "    animation:\n",
              "      spin 1s steps(1) infinite;\n",
              "  }\n",
              "\n",
              "  @keyframes spin {\n",
              "    0% {\n",
              "      border-color: transparent;\n",
              "      border-bottom-color: var(--fill-color);\n",
              "      border-left-color: var(--fill-color);\n",
              "    }\n",
              "    20% {\n",
              "      border-color: transparent;\n",
              "      border-left-color: var(--fill-color);\n",
              "      border-top-color: var(--fill-color);\n",
              "    }\n",
              "    30% {\n",
              "      border-color: transparent;\n",
              "      border-left-color: var(--fill-color);\n",
              "      border-top-color: var(--fill-color);\n",
              "      border-right-color: var(--fill-color);\n",
              "    }\n",
              "    40% {\n",
              "      border-color: transparent;\n",
              "      border-right-color: var(--fill-color);\n",
              "      border-top-color: var(--fill-color);\n",
              "    }\n",
              "    60% {\n",
              "      border-color: transparent;\n",
              "      border-right-color: var(--fill-color);\n",
              "    }\n",
              "    80% {\n",
              "      border-color: transparent;\n",
              "      border-right-color: var(--fill-color);\n",
              "      border-bottom-color: var(--fill-color);\n",
              "    }\n",
              "    90% {\n",
              "      border-color: transparent;\n",
              "      border-bottom-color: var(--fill-color);\n",
              "    }\n",
              "  }\n",
              "</style>\n",
              "\n",
              "  <script>\n",
              "    async function quickchart(key) {\n",
              "      const quickchartButtonEl =\n",
              "        document.querySelector('#' + key + ' button');\n",
              "      quickchartButtonEl.disabled = true;  // To prevent multiple clicks.\n",
              "      quickchartButtonEl.classList.add('colab-df-spinner');\n",
              "      try {\n",
              "        const charts = await google.colab.kernel.invokeFunction(\n",
              "            'suggestCharts', [key], {});\n",
              "      } catch (error) {\n",
              "        console.error('Error during call to suggestCharts:', error);\n",
              "      }\n",
              "      quickchartButtonEl.classList.remove('colab-df-spinner');\n",
              "      quickchartButtonEl.classList.add('colab-df-quickchart-complete');\n",
              "    }\n",
              "    (() => {\n",
              "      let quickchartButtonEl =\n",
              "        document.querySelector('#df-6f1f5064-2c42-468e-a130-290cb1c2fda6 button');\n",
              "      quickchartButtonEl.style.display =\n",
              "        google.colab.kernel.accessAllowed ? 'block' : 'none';\n",
              "    })();\n",
              "  </script>\n",
              "</div>\n",
              "\n",
              "    </div>\n",
              "  </div>\n"
            ],
            "text/plain": [
              "   Rented Bike Count  Hour  Temperature(°C)  Humidity(%)  Wind speed (m/s)  \\\n",
              "0                254     0             -5.2           37               2.2   \n",
              "1                204     1             -5.5           38               0.8   \n",
              "2                173     2             -6.0           39               1.0   \n",
              "3                107     3             -6.2           40               0.9   \n",
              "4                 78     4             -6.0           36               2.3   \n",
              "\n",
              "   Visibility (10m)  Dew point temperature(°C)  Solar Radiation (MJ/m2)  \\\n",
              "0              2000                      -17.6                      0.0   \n",
              "1              2000                      -17.6                      0.0   \n",
              "2              2000                      -17.7                      0.0   \n",
              "3              2000                      -17.6                      0.0   \n",
              "4              2000                      -18.6                      0.0   \n",
              "\n",
              "   Rainfall(mm)  Snowfall (cm)  Holiday  Functioning Day  Season_Autumn  \\\n",
              "0           0.0            0.0        0                1          False   \n",
              "1           0.0            0.0        0                1          False   \n",
              "2           0.0            0.0        0                1          False   \n",
              "3           0.0            0.0        0                1          False   \n",
              "4           0.0            0.0        0                1          False   \n",
              "\n",
              "   Season_Spring  Season_Summer  Season_Winter  \n",
              "0          False          False           True  \n",
              "1          False          False           True  \n",
              "2          False          False           True  \n",
              "3          False          False           True  \n",
              "4          False          False           True  "
            ]
          },
          "execution_count": 77,
          "metadata": {},
          "output_type": "execute_result"
        }
      ],
      "source": [
        "df.head()"
      ]
    },
    {
      "cell_type": "markdown",
      "metadata": {
        "id": "ZzRfg3FP4lvV"
      },
      "source": [
        "### Câu a:"
      ]
    },
    {
      "cell_type": "markdown",
      "metadata": {
        "id": "zbsizbKm4v3L"
      },
      "source": [
        "Tính hệ số tương quan của các thuộc tính với thuộc tính `Rented Bike Count` và lấy 2 thuộc tính có tương quan lớn nhất thì 2 thuộc tính đó có ảnh hướng lớn nhất tới thuộc tính `Rented Bike Count`"
      ]
    },
    {
      "cell_type": "code",
      "execution_count": 78,
      "metadata": {
        "colab": {
          "base_uri": "https://localhost:8080/"
        },
        "id": "rXbRwZnI5Io6",
        "outputId": "a6667032-11b5-4523-bf24-992a0855e040"
      },
      "outputs": [
        {
          "name": "stdout",
          "output_type": "stream",
          "text": [
            "Rented Bike Count            1.000000\n",
            "Temperature(°C)              0.538558\n",
            "Season_Winter                0.424925\n",
            "Hour                         0.410257\n",
            "Dew point temperature(°C)    0.379788\n",
            "Name: Rented Bike Count, dtype: float64\n"
          ]
        }
      ],
      "source": [
        "# Tính ma trận tương quan\n",
        "corr = df.corr()['Rented Bike Count'].abs().sort_values(ascending=False)\n",
        "\n",
        "print(corr.head(5))"
      ]
    },
    {
      "cell_type": "markdown",
      "metadata": {
        "id": "Iz6lwwxh8Aij"
      },
      "source": [
        "Như vậy nếu chỉ dùng 2 biến để dự đoán `Rented Bike Count` thì đầu tiên chúng ta sẽ chọn thuộc tính `Temperature(°C)` vì nó có hệ số tương quan cao nhất. Nhưng để chọn thuộc tính thứ 2 chúng ta thấy hệ số tương quan của 2 thuộc tính `Season_Winter` và `Hour` rất gần nhau. Vậy nên chúng ta phải xét thêm thuộc tính nào sẽ cho ta nhiều thông tin hơn. Ta đánh giá bằng chủ quan thì cũng có thể thấy thuộc tính `Hour` sẽ cho ta nhiều thông tin hơn bởi vì thuộc tính `Season_Winter` cũng sẽ chỉ cho ta thông tin là đang có phải ở mùa đông hay không ? Nhưng ta có thể dự đoán nó bằng thuộc tính `Temperature(°C)` vì nếu nhiệt độ thấp cũng ta cũng sẽ dự đoán được là mùa đông hay không. Nhưng để chính xác hơn chúng ta sẽ đánh giá nó bằng chỉ số tương quan của 2 thuộc tính đó với thuộc `Temperature(°C)` để xem thuộc tính nào sẽ cho được nhiều thông tin hơn."
      ]
    },
    {
      "cell_type": "code",
      "execution_count": 79,
      "metadata": {
        "colab": {
          "base_uri": "https://localhost:8080/"
        },
        "id": "jKiPnohu_bH9",
        "outputId": "cfbf1a3e-a5ff-4706-ea99-b338044951ee"
      },
      "outputs": [
        {
          "name": "stdout",
          "output_type": "stream",
          "text": [
            "Hệ số tương quan giữa Temperature và Season_Winter : -0.7387195745089674\n",
            "Hệ số tương quan giữa Temperature và Hour : 0.12411449163549312\n"
          ]
        }
      ],
      "source": [
        "print(f\"Hệ số tương quan giữa Temperature và Season_Winter : {df['Temperature(°C)'].corr(df['Season_Winter'])}\")\n",
        "print(f\"Hệ số tương quan giữa Temperature và Hour : {df['Temperature(°C)'].corr(df['Hour'])}\")"
      ]
    },
    {
      "cell_type": "markdown",
      "metadata": {
        "id": "EViW7VTkB8NP"
      },
      "source": [
        "Như vậy ở đây ta sẽ chọn thuộc tính `Hour` sẽ là thuộc tính thứ 2 để xây dựng mô hình."
      ]
    },
    {
      "cell_type": "markdown",
      "metadata": {
        "id": "8BweYz3y8U9B"
      },
      "source": [
        "### Câu b:"
      ]
    },
    {
      "cell_type": "markdown",
      "metadata": {
        "id": "MPLNGeJH9DBU"
      },
      "source": [
        "Chia tập dữ liệu thành 2 phần là training và test.  \n",
        "Ta sẽ sử dụng 3 mô hình:\n",
        "  - Hồi quy tuyến tính (Linear Regression)\n",
        "  - Hồi quy Ridge (Ridge Regression)\n",
        "  - Random Forest Regressor  \n",
        "\n",
        "Huấn luyện, dự đoán và so sánh R² (độ giải thích) trên tập kiểm tra."
      ]
    },
    {
      "cell_type": "code",
      "execution_count": 80,
      "metadata": {
        "colab": {
          "base_uri": "https://localhost:8080/"
        },
        "id": "PCTltG9D9dPG",
        "outputId": "63094b0e-e202-4813-c722-c09aea564cb3"
      },
      "outputs": [
        {
          "name": "stdout",
          "output_type": "stream",
          "text": [
            "Model                     R^2          MSE\n",
            "LinearRegression        0.404     244360.5\n",
            "Ridge(alpha=1.0)        0.404     244360.4\n",
            "RandomForest(n=100)     0.471     216862.5\n"
          ]
        }
      ],
      "source": [
        "# 1) Chuẩn bị dữ liệu\n",
        "# Giả sử df đã có sẵn, với 2 cột số: 'Temperature(°C)' và 'Season_Winter'\n",
        "X = df[['Temperature(°C)', 'Hour']].values\n",
        "y = df['Rented Bike Count'].values\n",
        "# Chia train/test 70/30\n",
        "X_train, X_test, y_train, y_test = train_test_split(\n",
        "    X, y, test_size=0.3, random_state=42\n",
        ")\n",
        "# 2) Khởi tạo 3 mô hình\n",
        "models = {\n",
        "    'LinearRegression': LinearRegression(),\n",
        "    'Ridge(alpha=1.0)':   Ridge(alpha=1.0),\n",
        "    'RandomForest(n=100)': RandomForestRegressor(n_estimators=100, random_state=42)\n",
        "}\n",
        "# 3) Huấn luyện & đánh giá\n",
        "results = []\n",
        "for name, model in models.items():\n",
        "    model.fit(X_train, y_train)               # Huấn luyện\n",
        "    y_pred = model.predict(X_test)            # Dự đoán\n",
        "    r2 = r2_score(y_test, y_pred)             # R^2 score\n",
        "    mse = mean_squared_error(y_test, y_pred)  # MSE\n",
        "    results.append((name, r2, mse))\n",
        "\n",
        "# 4) Hiển thị kết quả\n",
        "print(\"Model\".ljust(20), \"R^2\".rjust(8), \"MSE\".rjust(12))\n",
        "for name, r2, mse in results:\n",
        "    print(f\"{name.ljust(20)} {r2:8.3f} {mse:12.1f}\")"
      ]
    },
    {
      "cell_type": "markdown",
      "metadata": {
        "id": "dylrn2enCfv5"
      },
      "source": [
        "**Kết luận :** mô hình RandomForest dự đoán tốt nhất."
      ]
    },
    {
      "cell_type": "markdown",
      "metadata": {
        "id": "vWi-3W_MCqNV"
      },
      "source": [
        "### Câu c:"
      ]
    },
    {
      "cell_type": "code",
      "execution_count": 81,
      "metadata": {
        "colab": {
          "base_uri": "https://localhost:8080/"
        },
        "id": "B78RKLY9DENW",
        "outputId": "8ef74677-ec59-48e4-8358-c7c88588ce85"
      },
      "outputs": [
        {
          "name": "stdout",
          "output_type": "stream",
          "text": [
            "BayesianRidge      R^2 = 0.404    MSE = 244349.6\n"
          ]
        },
        {
          "name": "stderr",
          "output_type": "stream",
          "text": [
            "/usr/local/lib/python3.11/dist-packages/sklearn/gaussian_process/kernels.py:452: ConvergenceWarning: The optimal value found for dimension 0 of parameter k1__constant_value is close to the specified upper bound 100000.0. Increasing the bound and calling fit again may find a better value.\n",
            "  warnings.warn(\n",
            "/usr/local/lib/python3.11/dist-packages/sklearn/gaussian_process/kernels.py:442: ConvergenceWarning: The optimal value found for dimension 0 of parameter k2__length_scale is close to the specified lower bound 0.0001. Decreasing the bound and calling fit again may find a better value.\n",
            "  warnings.warn(\n"
          ]
        },
        {
          "name": "stdout",
          "output_type": "stream",
          "text": [
            "GaussianProcess    R^2 = -0.427    MSE = 584840.1\n"
          ]
        }
      ],
      "source": [
        "# 2.1 Bayesian Ridge Regression\n",
        "bayes_ridge = BayesianRidge()\n",
        "\n",
        "# 2.2 Gaussian Process (dùng kernel RBF)\n",
        "kernel = ConstantKernel(1.0, (1e-2, 1e5)) * RBF(length_scale=1.0, length_scale_bounds=(1e-4, 1e2))\n",
        "gp = GaussianProcessRegressor(kernel=kernel, random_state=42, alpha=1e-2)\n",
        "models = {\n",
        "    'BayesianRidge': bayes_ridge,\n",
        "    'GaussianProcess': gp\n",
        "}\n",
        "\n",
        "for name, model in models.items():\n",
        "    model.fit(X_train, y_train)\n",
        "    y_pred = model.predict(X_test)\n",
        "    r2  = r2_score(y_test, y_pred)\n",
        "    mse = mean_squared_error(y_test, y_pred)\n",
        "    print(f\"{name:17s}  R^2 = {r2:.3f}    MSE = {mse:.1f}\")"
      ]
    },
    {
      "cell_type": "markdown",
      "metadata": {
        "id": "oeqJWoNFKVu7"
      },
      "source": [
        "**So sánh các mô hình:**\n",
        "\n",
        "| Mô hình            | $R^2$   | Nhận xét                               |\n",
        "|:------------------:|:-------:|:----------------------------------------:|\n",
        "| LinearRegression | 0.404 | Mô hình tuyến tính cơ bản, hiệu quả tạm ổn. |\n",
        "|\n",
        "| Ridge (alphe = 1.0) | 0.404 | Không cải thiện so với LinearRegression.|\n",
        "| RandomForest (n=100) | 0.471 | Tốt nhất trong tất cả mô hình, thể hiện mô hình học phi tuyến tốt.|\n",
        "| BayesianRidge | 0.404 | Tương đương Linear và Ridge.|\n",
        "|GaussianProcess| -0.427 | Tệ nhất, R² âm → mô hình không học được gì.|\n",
        "\n"
      ]
    },
    {
      "cell_type": "markdown",
      "metadata": {
        "id": "Zux576wnPILf"
      },
      "source": []
    },
    {
      "cell_type": "markdown",
      "metadata": {
        "id": "qYn5NnWdO8A4"
      },
      "source": [
        "**So sánh theo MSE**  \n",
        "\n",
        "| Mô hình                 | MSE       | Nhận xét                                  |\n",
        "|-------------------------|-----------|--------------------------------------------|\n",
        "| LinearRegression        | 244360.5  | Trung bình.                                |\n",
        "| Ridge (alpha=1.0)       | 244360.4  | Gần như không khác Linear.                 |\n",
        "| RandomForest (n=100)    | 216862.5  | Tốt nhất, sai số bình phương nhỏ nhất.    |\n",
        "| BayesianRidge           | 244349.6  | Gần như giống Linear, không cải thiện đáng kể. |\n",
        "| GaussianProcess         | 584840.1  | Rất tệ, dự đoán sai hoàn toàn.            |"
      ]
    },
    {
      "cell_type": "markdown",
      "metadata": {
        "id": "PSwaAGrERr8F"
      },
      "source": [
        "## Câu 3:"
      ]
    },
    {
      "cell_type": "markdown",
      "metadata": {
        "id": "kUXcgTPyRtlb"
      },
      "source": [
        "## **Tiền xử lý dữ liệu**"
      ]
    },
    {
      "cell_type": "code",
      "execution_count": 82,
      "metadata": {
        "id": "RAijynLFRzTZ"
      },
      "outputs": [],
      "source": [
        "cols = [\n",
        "    'Sample_code_number', 'Clump_thickness', 'Uniformity_of_cell_size',\n",
        "    'Uniformity_of_cell_shape', 'Marginal_adhesion',\n",
        "    'Single_epithelial_cell_size', 'Bare_nuclei',\n",
        "    'Bland_chromatin', 'Normal_nucleoli', 'Mitoses', 'Class'\n",
        "]\n",
        "df2 = pd.read_csv(\n",
        "    'breast-cancer-wisconsin.data',\n",
        "    names=cols,\n",
        "    na_values='?'   # đánh dấu '?' là missing\n",
        ")"
      ]
    },
    {
      "cell_type": "code",
      "execution_count": 83,
      "metadata": {
        "colab": {
          "base_uri": "https://localhost:8080/"
        },
        "id": "tn1L1MFmSa7O",
        "outputId": "a57b03c9-20a2-4188-8322-c1bcdc4585f3"
      },
      "outputs": [
        {
          "name": "stdout",
          "output_type": "stream",
          "text": [
            "<class 'pandas.core.frame.DataFrame'>\n",
            "RangeIndex: 699 entries, 0 to 698\n",
            "Data columns (total 11 columns):\n",
            " #   Column                       Non-Null Count  Dtype  \n",
            "---  ------                       --------------  -----  \n",
            " 0   Sample_code_number           699 non-null    int64  \n",
            " 1   Clump_thickness              699 non-null    int64  \n",
            " 2   Uniformity_of_cell_size      699 non-null    int64  \n",
            " 3   Uniformity_of_cell_shape     699 non-null    int64  \n",
            " 4   Marginal_adhesion            699 non-null    int64  \n",
            " 5   Single_epithelial_cell_size  699 non-null    int64  \n",
            " 6   Bare_nuclei                  683 non-null    float64\n",
            " 7   Bland_chromatin              699 non-null    int64  \n",
            " 8   Normal_nucleoli              699 non-null    int64  \n",
            " 9   Mitoses                      699 non-null    int64  \n",
            " 10  Class                        699 non-null    int64  \n",
            "dtypes: float64(1), int64(10)\n",
            "memory usage: 60.2 KB\n"
          ]
        }
      ],
      "source": [
        "df2.info()"
      ]
    },
    {
      "cell_type": "markdown",
      "metadata": {
        "id": "uMaz5r4BSWkm"
      },
      "source": [
        "Loại bỏ cột Sample_code_number"
      ]
    },
    {
      "cell_type": "code",
      "execution_count": 84,
      "metadata": {
        "id": "8UGM3uQvSQvp"
      },
      "outputs": [],
      "source": [
        "df2.drop(columns=['Sample_code_number'], inplace=True)\n"
      ]
    },
    {
      "cell_type": "code",
      "execution_count": 85,
      "metadata": {
        "colab": {
          "base_uri": "https://localhost:8080/",
          "height": 226
        },
        "id": "75eQ2UfSSjKN",
        "outputId": "64200971-9391-4903-c485-7d72731226be"
      },
      "outputs": [
        {
          "data": {
            "application/vnd.google.colaboratory.intrinsic+json": {
              "summary": "{\n  \"name\": \"df2\",\n  \"rows\": 699,\n  \"fields\": [\n    {\n      \"column\": \"Clump_thickness\",\n      \"properties\": {\n        \"dtype\": \"number\",\n        \"std\": 2,\n        \"min\": 1,\n        \"max\": 10,\n        \"num_unique_values\": 10,\n        \"samples\": [\n          10,\n          3,\n          1\n        ],\n        \"semantic_type\": \"\",\n        \"description\": \"\"\n      }\n    },\n    {\n      \"column\": \"Uniformity_of_cell_size\",\n      \"properties\": {\n        \"dtype\": \"number\",\n        \"std\": 3,\n        \"min\": 1,\n        \"max\": 10,\n        \"num_unique_values\": 10,\n        \"samples\": [\n          6,\n          4,\n          3\n        ],\n        \"semantic_type\": \"\",\n        \"description\": \"\"\n      }\n    },\n    {\n      \"column\": \"Uniformity_of_cell_shape\",\n      \"properties\": {\n        \"dtype\": \"number\",\n        \"std\": 2,\n        \"min\": 1,\n        \"max\": 10,\n        \"num_unique_values\": 10,\n        \"samples\": [\n          7,\n          4,\n          3\n        ],\n        \"semantic_type\": \"\",\n        \"description\": \"\"\n      }\n    },\n    {\n      \"column\": \"Marginal_adhesion\",\n      \"properties\": {\n        \"dtype\": \"number\",\n        \"std\": 2,\n        \"min\": 1,\n        \"max\": 10,\n        \"num_unique_values\": 10,\n        \"samples\": [\n          9,\n          5,\n          4\n        ],\n        \"semantic_type\": \"\",\n        \"description\": \"\"\n      }\n    },\n    {\n      \"column\": \"Single_epithelial_cell_size\",\n      \"properties\": {\n        \"dtype\": \"number\",\n        \"std\": 2,\n        \"min\": 1,\n        \"max\": 10,\n        \"num_unique_values\": 10,\n        \"samples\": [\n          10,\n          7,\n          4\n        ],\n        \"semantic_type\": \"\",\n        \"description\": \"\"\n      }\n    },\n    {\n      \"column\": \"Bare_nuclei\",\n      \"properties\": {\n        \"dtype\": \"number\",\n        \"std\": 3.6438571604929035,\n        \"min\": 1.0,\n        \"max\": 10.0,\n        \"num_unique_values\": 10,\n        \"samples\": [\n          8.0,\n          10.0,\n          9.0\n        ],\n        \"semantic_type\": \"\",\n        \"description\": \"\"\n      }\n    },\n    {\n      \"column\": \"Bland_chromatin\",\n      \"properties\": {\n        \"dtype\": \"number\",\n        \"std\": 2,\n        \"min\": 1,\n        \"max\": 10,\n        \"num_unique_values\": 10,\n        \"samples\": [\n          6,\n          9,\n          5\n        ],\n        \"semantic_type\": \"\",\n        \"description\": \"\"\n      }\n    },\n    {\n      \"column\": \"Normal_nucleoli\",\n      \"properties\": {\n        \"dtype\": \"number\",\n        \"std\": 3,\n        \"min\": 1,\n        \"max\": 10,\n        \"num_unique_values\": 10,\n        \"samples\": [\n          9,\n          2,\n          3\n        ],\n        \"semantic_type\": \"\",\n        \"description\": \"\"\n      }\n    },\n    {\n      \"column\": \"Mitoses\",\n      \"properties\": {\n        \"dtype\": \"number\",\n        \"std\": 1,\n        \"min\": 1,\n        \"max\": 10,\n        \"num_unique_values\": 9,\n        \"samples\": [\n          8,\n          5,\n          7\n        ],\n        \"semantic_type\": \"\",\n        \"description\": \"\"\n      }\n    },\n    {\n      \"column\": \"Class\",\n      \"properties\": {\n        \"dtype\": \"number\",\n        \"std\": 0,\n        \"min\": 2,\n        \"max\": 4,\n        \"num_unique_values\": 2,\n        \"samples\": [\n          4,\n          2\n        ],\n        \"semantic_type\": \"\",\n        \"description\": \"\"\n      }\n    }\n  ]\n}",
              "type": "dataframe",
              "variable_name": "df2"
            },
            "text/html": [
              "\n",
              "  <div id=\"df-98112c75-0519-4a39-9c13-ba8ba21e11d0\" class=\"colab-df-container\">\n",
              "    <div>\n",
              "<style scoped>\n",
              "    .dataframe tbody tr th:only-of-type {\n",
              "        vertical-align: middle;\n",
              "    }\n",
              "\n",
              "    .dataframe tbody tr th {\n",
              "        vertical-align: top;\n",
              "    }\n",
              "\n",
              "    .dataframe thead th {\n",
              "        text-align: right;\n",
              "    }\n",
              "</style>\n",
              "<table border=\"1\" class=\"dataframe\">\n",
              "  <thead>\n",
              "    <tr style=\"text-align: right;\">\n",
              "      <th></th>\n",
              "      <th>Clump_thickness</th>\n",
              "      <th>Uniformity_of_cell_size</th>\n",
              "      <th>Uniformity_of_cell_shape</th>\n",
              "      <th>Marginal_adhesion</th>\n",
              "      <th>Single_epithelial_cell_size</th>\n",
              "      <th>Bare_nuclei</th>\n",
              "      <th>Bland_chromatin</th>\n",
              "      <th>Normal_nucleoli</th>\n",
              "      <th>Mitoses</th>\n",
              "      <th>Class</th>\n",
              "    </tr>\n",
              "  </thead>\n",
              "  <tbody>\n",
              "    <tr>\n",
              "      <th>0</th>\n",
              "      <td>5</td>\n",
              "      <td>1</td>\n",
              "      <td>1</td>\n",
              "      <td>1</td>\n",
              "      <td>2</td>\n",
              "      <td>1.0</td>\n",
              "      <td>3</td>\n",
              "      <td>1</td>\n",
              "      <td>1</td>\n",
              "      <td>2</td>\n",
              "    </tr>\n",
              "    <tr>\n",
              "      <th>1</th>\n",
              "      <td>5</td>\n",
              "      <td>4</td>\n",
              "      <td>4</td>\n",
              "      <td>5</td>\n",
              "      <td>7</td>\n",
              "      <td>10.0</td>\n",
              "      <td>3</td>\n",
              "      <td>2</td>\n",
              "      <td>1</td>\n",
              "      <td>2</td>\n",
              "    </tr>\n",
              "    <tr>\n",
              "      <th>2</th>\n",
              "      <td>3</td>\n",
              "      <td>1</td>\n",
              "      <td>1</td>\n",
              "      <td>1</td>\n",
              "      <td>2</td>\n",
              "      <td>2.0</td>\n",
              "      <td>3</td>\n",
              "      <td>1</td>\n",
              "      <td>1</td>\n",
              "      <td>2</td>\n",
              "    </tr>\n",
              "    <tr>\n",
              "      <th>3</th>\n",
              "      <td>6</td>\n",
              "      <td>8</td>\n",
              "      <td>8</td>\n",
              "      <td>1</td>\n",
              "      <td>3</td>\n",
              "      <td>4.0</td>\n",
              "      <td>3</td>\n",
              "      <td>7</td>\n",
              "      <td>1</td>\n",
              "      <td>2</td>\n",
              "    </tr>\n",
              "    <tr>\n",
              "      <th>4</th>\n",
              "      <td>4</td>\n",
              "      <td>1</td>\n",
              "      <td>1</td>\n",
              "      <td>3</td>\n",
              "      <td>2</td>\n",
              "      <td>1.0</td>\n",
              "      <td>3</td>\n",
              "      <td>1</td>\n",
              "      <td>1</td>\n",
              "      <td>2</td>\n",
              "    </tr>\n",
              "  </tbody>\n",
              "</table>\n",
              "</div>\n",
              "    <div class=\"colab-df-buttons\">\n",
              "\n",
              "  <div class=\"colab-df-container\">\n",
              "    <button class=\"colab-df-convert\" onclick=\"convertToInteractive('df-98112c75-0519-4a39-9c13-ba8ba21e11d0')\"\n",
              "            title=\"Convert this dataframe to an interactive table.\"\n",
              "            style=\"display:none;\">\n",
              "\n",
              "  <svg xmlns=\"http://www.w3.org/2000/svg\" height=\"24px\" viewBox=\"0 -960 960 960\">\n",
              "    <path d=\"M120-120v-720h720v720H120Zm60-500h600v-160H180v160Zm220 220h160v-160H400v160Zm0 220h160v-160H400v160ZM180-400h160v-160H180v160Zm440 0h160v-160H620v160ZM180-180h160v-160H180v160Zm440 0h160v-160H620v160Z\"/>\n",
              "  </svg>\n",
              "    </button>\n",
              "\n",
              "  <style>\n",
              "    .colab-df-container {\n",
              "      display:flex;\n",
              "      gap: 12px;\n",
              "    }\n",
              "\n",
              "    .colab-df-convert {\n",
              "      background-color: #E8F0FE;\n",
              "      border: none;\n",
              "      border-radius: 50%;\n",
              "      cursor: pointer;\n",
              "      display: none;\n",
              "      fill: #1967D2;\n",
              "      height: 32px;\n",
              "      padding: 0 0 0 0;\n",
              "      width: 32px;\n",
              "    }\n",
              "\n",
              "    .colab-df-convert:hover {\n",
              "      background-color: #E2EBFA;\n",
              "      box-shadow: 0px 1px 2px rgba(60, 64, 67, 0.3), 0px 1px 3px 1px rgba(60, 64, 67, 0.15);\n",
              "      fill: #174EA6;\n",
              "    }\n",
              "\n",
              "    .colab-df-buttons div {\n",
              "      margin-bottom: 4px;\n",
              "    }\n",
              "\n",
              "    [theme=dark] .colab-df-convert {\n",
              "      background-color: #3B4455;\n",
              "      fill: #D2E3FC;\n",
              "    }\n",
              "\n",
              "    [theme=dark] .colab-df-convert:hover {\n",
              "      background-color: #434B5C;\n",
              "      box-shadow: 0px 1px 3px 1px rgba(0, 0, 0, 0.15);\n",
              "      filter: drop-shadow(0px 1px 2px rgba(0, 0, 0, 0.3));\n",
              "      fill: #FFFFFF;\n",
              "    }\n",
              "  </style>\n",
              "\n",
              "    <script>\n",
              "      const buttonEl =\n",
              "        document.querySelector('#df-98112c75-0519-4a39-9c13-ba8ba21e11d0 button.colab-df-convert');\n",
              "      buttonEl.style.display =\n",
              "        google.colab.kernel.accessAllowed ? 'block' : 'none';\n",
              "\n",
              "      async function convertToInteractive(key) {\n",
              "        const element = document.querySelector('#df-98112c75-0519-4a39-9c13-ba8ba21e11d0');\n",
              "        const dataTable =\n",
              "          await google.colab.kernel.invokeFunction('convertToInteractive',\n",
              "                                                    [key], {});\n",
              "        if (!dataTable) return;\n",
              "\n",
              "        const docLinkHtml = 'Like what you see? Visit the ' +\n",
              "          '<a target=\"_blank\" href=https://colab.research.google.com/notebooks/data_table.ipynb>data table notebook</a>'\n",
              "          + ' to learn more about interactive tables.';\n",
              "        element.innerHTML = '';\n",
              "        dataTable['output_type'] = 'display_data';\n",
              "        await google.colab.output.renderOutput(dataTable, element);\n",
              "        const docLink = document.createElement('div');\n",
              "        docLink.innerHTML = docLinkHtml;\n",
              "        element.appendChild(docLink);\n",
              "      }\n",
              "    </script>\n",
              "  </div>\n",
              "\n",
              "\n",
              "<div id=\"df-b2876c2c-9e88-4afd-a3fb-f199fcbd67e3\">\n",
              "  <button class=\"colab-df-quickchart\" onclick=\"quickchart('df-b2876c2c-9e88-4afd-a3fb-f199fcbd67e3')\"\n",
              "            title=\"Suggest charts\"\n",
              "            style=\"display:none;\">\n",
              "\n",
              "<svg xmlns=\"http://www.w3.org/2000/svg\" height=\"24px\"viewBox=\"0 0 24 24\"\n",
              "     width=\"24px\">\n",
              "    <g>\n",
              "        <path d=\"M19 3H5c-1.1 0-2 .9-2 2v14c0 1.1.9 2 2 2h14c1.1 0 2-.9 2-2V5c0-1.1-.9-2-2-2zM9 17H7v-7h2v7zm4 0h-2V7h2v10zm4 0h-2v-4h2v4z\"/>\n",
              "    </g>\n",
              "</svg>\n",
              "  </button>\n",
              "\n",
              "<style>\n",
              "  .colab-df-quickchart {\n",
              "      --bg-color: #E8F0FE;\n",
              "      --fill-color: #1967D2;\n",
              "      --hover-bg-color: #E2EBFA;\n",
              "      --hover-fill-color: #174EA6;\n",
              "      --disabled-fill-color: #AAA;\n",
              "      --disabled-bg-color: #DDD;\n",
              "  }\n",
              "\n",
              "  [theme=dark] .colab-df-quickchart {\n",
              "      --bg-color: #3B4455;\n",
              "      --fill-color: #D2E3FC;\n",
              "      --hover-bg-color: #434B5C;\n",
              "      --hover-fill-color: #FFFFFF;\n",
              "      --disabled-bg-color: #3B4455;\n",
              "      --disabled-fill-color: #666;\n",
              "  }\n",
              "\n",
              "  .colab-df-quickchart {\n",
              "    background-color: var(--bg-color);\n",
              "    border: none;\n",
              "    border-radius: 50%;\n",
              "    cursor: pointer;\n",
              "    display: none;\n",
              "    fill: var(--fill-color);\n",
              "    height: 32px;\n",
              "    padding: 0;\n",
              "    width: 32px;\n",
              "  }\n",
              "\n",
              "  .colab-df-quickchart:hover {\n",
              "    background-color: var(--hover-bg-color);\n",
              "    box-shadow: 0 1px 2px rgba(60, 64, 67, 0.3), 0 1px 3px 1px rgba(60, 64, 67, 0.15);\n",
              "    fill: var(--button-hover-fill-color);\n",
              "  }\n",
              "\n",
              "  .colab-df-quickchart-complete:disabled,\n",
              "  .colab-df-quickchart-complete:disabled:hover {\n",
              "    background-color: var(--disabled-bg-color);\n",
              "    fill: var(--disabled-fill-color);\n",
              "    box-shadow: none;\n",
              "  }\n",
              "\n",
              "  .colab-df-spinner {\n",
              "    border: 2px solid var(--fill-color);\n",
              "    border-color: transparent;\n",
              "    border-bottom-color: var(--fill-color);\n",
              "    animation:\n",
              "      spin 1s steps(1) infinite;\n",
              "  }\n",
              "\n",
              "  @keyframes spin {\n",
              "    0% {\n",
              "      border-color: transparent;\n",
              "      border-bottom-color: var(--fill-color);\n",
              "      border-left-color: var(--fill-color);\n",
              "    }\n",
              "    20% {\n",
              "      border-color: transparent;\n",
              "      border-left-color: var(--fill-color);\n",
              "      border-top-color: var(--fill-color);\n",
              "    }\n",
              "    30% {\n",
              "      border-color: transparent;\n",
              "      border-left-color: var(--fill-color);\n",
              "      border-top-color: var(--fill-color);\n",
              "      border-right-color: var(--fill-color);\n",
              "    }\n",
              "    40% {\n",
              "      border-color: transparent;\n",
              "      border-right-color: var(--fill-color);\n",
              "      border-top-color: var(--fill-color);\n",
              "    }\n",
              "    60% {\n",
              "      border-color: transparent;\n",
              "      border-right-color: var(--fill-color);\n",
              "    }\n",
              "    80% {\n",
              "      border-color: transparent;\n",
              "      border-right-color: var(--fill-color);\n",
              "      border-bottom-color: var(--fill-color);\n",
              "    }\n",
              "    90% {\n",
              "      border-color: transparent;\n",
              "      border-bottom-color: var(--fill-color);\n",
              "    }\n",
              "  }\n",
              "</style>\n",
              "\n",
              "  <script>\n",
              "    async function quickchart(key) {\n",
              "      const quickchartButtonEl =\n",
              "        document.querySelector('#' + key + ' button');\n",
              "      quickchartButtonEl.disabled = true;  // To prevent multiple clicks.\n",
              "      quickchartButtonEl.classList.add('colab-df-spinner');\n",
              "      try {\n",
              "        const charts = await google.colab.kernel.invokeFunction(\n",
              "            'suggestCharts', [key], {});\n",
              "      } catch (error) {\n",
              "        console.error('Error during call to suggestCharts:', error);\n",
              "      }\n",
              "      quickchartButtonEl.classList.remove('colab-df-spinner');\n",
              "      quickchartButtonEl.classList.add('colab-df-quickchart-complete');\n",
              "    }\n",
              "    (() => {\n",
              "      let quickchartButtonEl =\n",
              "        document.querySelector('#df-b2876c2c-9e88-4afd-a3fb-f199fcbd67e3 button');\n",
              "      quickchartButtonEl.style.display =\n",
              "        google.colab.kernel.accessAllowed ? 'block' : 'none';\n",
              "    })();\n",
              "  </script>\n",
              "</div>\n",
              "\n",
              "    </div>\n",
              "  </div>\n"
            ],
            "text/plain": [
              "   Clump_thickness  Uniformity_of_cell_size  Uniformity_of_cell_shape  \\\n",
              "0                5                        1                         1   \n",
              "1                5                        4                         4   \n",
              "2                3                        1                         1   \n",
              "3                6                        8                         8   \n",
              "4                4                        1                         1   \n",
              "\n",
              "   Marginal_adhesion  Single_epithelial_cell_size  Bare_nuclei  \\\n",
              "0                  1                            2          1.0   \n",
              "1                  5                            7         10.0   \n",
              "2                  1                            2          2.0   \n",
              "3                  1                            3          4.0   \n",
              "4                  3                            2          1.0   \n",
              "\n",
              "   Bland_chromatin  Normal_nucleoli  Mitoses  Class  \n",
              "0                3                1        1      2  \n",
              "1                3                2        1      2  \n",
              "2                3                1        1      2  \n",
              "3                3                7        1      2  \n",
              "4                3                1        1      2  "
            ]
          },
          "execution_count": 85,
          "metadata": {},
          "output_type": "execute_result"
        }
      ],
      "source": [
        "df2.head()"
      ]
    },
    {
      "cell_type": "markdown",
      "metadata": {
        "id": "RKjX9T1RS-9t"
      },
      "source": [
        "Check missing value"
      ]
    },
    {
      "cell_type": "code",
      "execution_count": 86,
      "metadata": {
        "colab": {
          "base_uri": "https://localhost:8080/"
        },
        "id": "ltiiWNBqTA1Z",
        "outputId": "53e279f1-f6c2-47de-8ffc-8b80d5b4b743"
      },
      "outputs": [
        {
          "name": "stdout",
          "output_type": "stream",
          "text": [
            "Clump_thickness                 0\n",
            "Uniformity_of_cell_size         0\n",
            "Uniformity_of_cell_shape        0\n",
            "Marginal_adhesion               0\n",
            "Single_epithelial_cell_size     0\n",
            "Bare_nuclei                    16\n",
            "Bland_chromatin                 0\n",
            "Normal_nucleoli                 0\n",
            "Mitoses                         0\n",
            "Class                           0\n",
            "dtype: int64\n"
          ]
        }
      ],
      "source": [
        "print(df2.isnull().sum())"
      ]
    },
    {
      "cell_type": "markdown",
      "metadata": {
        "id": "_G8ftJWfTTLs"
      },
      "source": [
        "Loại bỏ luôn những dòng có `bare_nuclei = null`"
      ]
    },
    {
      "cell_type": "code",
      "execution_count": 87,
      "metadata": {
        "colab": {
          "base_uri": "https://localhost:8080/"
        },
        "id": "wxv3bZYuTYa9",
        "outputId": "1e06bcf6-adf5-4817-a32a-45a5864798d8"
      },
      "outputs": [
        {
          "name": "stdout",
          "output_type": "stream",
          "text": [
            "<class 'pandas.core.frame.DataFrame'>\n",
            "Index: 683 entries, 0 to 698\n",
            "Data columns (total 10 columns):\n",
            " #   Column                       Non-Null Count  Dtype  \n",
            "---  ------                       --------------  -----  \n",
            " 0   Clump_thickness              683 non-null    int64  \n",
            " 1   Uniformity_of_cell_size      683 non-null    int64  \n",
            " 2   Uniformity_of_cell_shape     683 non-null    int64  \n",
            " 3   Marginal_adhesion            683 non-null    int64  \n",
            " 4   Single_epithelial_cell_size  683 non-null    int64  \n",
            " 5   Bare_nuclei                  683 non-null    float64\n",
            " 6   Bland_chromatin              683 non-null    int64  \n",
            " 7   Normal_nucleoli              683 non-null    int64  \n",
            " 8   Mitoses                      683 non-null    int64  \n",
            " 9   Class                        683 non-null    int64  \n",
            "dtypes: float64(1), int64(9)\n",
            "memory usage: 58.7 KB\n"
          ]
        }
      ],
      "source": [
        "df2 = df2.dropna(subset=['Bare_nuclei'])\n",
        "df2.info()"
      ]
    },
    {
      "cell_type": "markdown",
      "metadata": {
        "id": "qloi-3qOTn6H"
      },
      "source": [
        "### Câu a:"
      ]
    },
    {
      "cell_type": "markdown",
      "metadata": {
        "id": "vL-xkwwtT_dY"
      },
      "source": [
        "Chuẩn bị dữ liệu"
      ]
    },
    {
      "cell_type": "code",
      "execution_count": 88,
      "metadata": {
        "id": "MKuo4YJ6TqNt"
      },
      "outputs": [],
      "source": [
        "X = df2.drop(columns=['Class']).values\n",
        "y = df2['Class'].map({2:0, 4:1}).values\n"
      ]
    },
    {
      "cell_type": "markdown",
      "metadata": {
        "id": "ZXbPcb_JUBne"
      },
      "source": [
        "Chia train/test"
      ]
    },
    {
      "cell_type": "code",
      "execution_count": 89,
      "metadata": {
        "id": "1mDiLyhJUDeB"
      },
      "outputs": [],
      "source": [
        "X_train, X_test, y_train, y_test = train_test_split(\n",
        "    X, y,\n",
        "    test_size=0.3,\n",
        "    random_state=42,\n",
        "    stratify=y\n",
        ")"
      ]
    },
    {
      "cell_type": "markdown",
      "metadata": {
        "id": "_yp3syvmUGmc"
      },
      "source": [
        "Xây dưng 3 mô hình và đánh giá"
      ]
    },
    {
      "cell_type": "code",
      "execution_count": 90,
      "metadata": {
        "colab": {
          "base_uri": "https://localhost:8080/"
        },
        "id": "9Jc7qQdwUJCX",
        "outputId": "b77ceac1-4da3-467d-b169-4bcac410f8d4"
      },
      "outputs": [
        {
          "name": "stdout",
          "output_type": "stream",
          "text": [
            "=== LogisticRegression ===\n",
            "Accuracy: 0.9560975609756097\n",
            "              precision    recall  f1-score   support\n",
            "\n",
            "      Benign       0.97      0.96      0.97       133\n",
            "   Malignant       0.93      0.94      0.94        72\n",
            "\n",
            "    accuracy                           0.96       205\n",
            "   macro avg       0.95      0.95      0.95       205\n",
            "weighted avg       0.96      0.96      0.96       205\n",
            "\n",
            "\n",
            "=== kNN (k=7) ===\n",
            "Accuracy: 0.9560975609756097\n",
            "              precision    recall  f1-score   support\n",
            "\n",
            "      Benign       0.97      0.96      0.97       133\n",
            "   Malignant       0.93      0.94      0.94        72\n",
            "\n",
            "    accuracy                           0.96       205\n",
            "   macro avg       0.95      0.95      0.95       205\n",
            "weighted avg       0.96      0.96      0.96       205\n",
            "\n",
            "\n",
            "=== RandomForest ===\n",
            "Accuracy: 0.9560975609756097\n",
            "              precision    recall  f1-score   support\n",
            "\n",
            "      Benign       0.97      0.96      0.97       133\n",
            "   Malignant       0.93      0.94      0.94        72\n",
            "\n",
            "    accuracy                           0.96       205\n",
            "   macro avg       0.95      0.95      0.95       205\n",
            "weighted avg       0.96      0.96      0.96       205\n",
            "\n",
            "\n"
          ]
        }
      ],
      "source": [
        "models = {\n",
        "    'LogisticRegression': LogisticRegression(max_iter=1000),\n",
        "    'kNN (k=7)':          KNeighborsClassifier(n_neighbors=7),\n",
        "    'RandomForest':       RandomForestClassifier(n_estimators=100, random_state=42)\n",
        "}\n",
        "for name, model in models.items():\n",
        "    model.fit(X_train, y_train)\n",
        "    y_pred = model.predict(X_test)\n",
        "    print(f\"=== {name} ===\")\n",
        "    print(\"Accuracy:\", accuracy_score(y_test, y_pred))\n",
        "    print(classification_report(y_test, y_pred, target_names=['Benign','Malignant']))\n",
        "    print()"
      ]
    },
    {
      "cell_type": "markdown",
      "metadata": {
        "id": "2u_PJ1SoVfOf"
      },
      "source": [
        "**Nhận xét chung :**  \n",
        "1. Độ chính xác rất cao (~95.6%) và cả ba mô hình đều gần như đều cho kết quả giống nhau trên tập test.\n",
        "2. Precision (độ chính xác của dự đoán) và Recall (khả năng phát hiện đúng) cho cả hai lớp đều trên 0.90, tức:\n",
        "  - Với lớp Malignant (ưu tiên không bỏ sót ca ác tính), Recall = 0.94 → chỉ khoảng 6% ca ác tính bị bỏ sót.\n",
        "  - Precision Malignant = 0.93 → khi mô hình dự đoán ác tính, có khoảng 7% là dương tính giả.\n",
        "3. F1‑score (hài hòa giữa precision và recall) ~0.94 cho Malignant cho thấy mô hình cân bằng tốt giữa bỏ sót và dương tính giả.  \n",
        "Để mở rộng hơn ta sẽ tối ưu các `hyper-paramters` và so sánh lại."
      ]
    },
    {
      "cell_type": "code",
      "execution_count": 91,
      "metadata": {
        "id": "DMgFTUpJZ49g"
      },
      "outputs": [],
      "source": [
        "cv = StratifiedKFold(n_splits=5, shuffle=True, random_state=42)\n",
        "param_grid_lr = {\n",
        "    'C': [0.01, 0.1, 1, 10],           # độ mạnh regularization\n",
        "    'penalty': ['l2'],                 # nếu solver='liblinear' có thể thêm 'l1'\n",
        "    'solver': ['lbfgs'],               # phù hợp với penalty='l2'\n",
        "}\n",
        "param_grid_knn = {\n",
        "    'n_neighbors': [3,5,7,9,11],\n",
        "    'weights':      ['uniform','distance'],\n",
        "    'p':            [1,2]    # 1=Manhattan, 2=Euclid\n",
        "}\n",
        "param_grid_rf = {\n",
        "    'n_estimators':    [50, 100, 200],\n",
        "    'max_depth':       [None, 5, 10, 20],\n",
        "    'min_samples_leaf':[1, 2, 5],\n",
        "    'max_features':    ['sqrt','log2']\n",
        "}\n"
      ]
    },
    {
      "cell_type": "code",
      "execution_count": 92,
      "metadata": {
        "colab": {
          "base_uri": "https://localhost:8080/"
        },
        "id": "KBUWbygqaPTd",
        "outputId": "a2470301-d423-447e-f637-fbf3466e1766"
      },
      "outputs": [
        {
          "name": "stdout",
          "output_type": "stream",
          "text": [
            "Best LR params: {'C': 0.1, 'penalty': 'l2', 'solver': 'lbfgs'}\n",
            "Best CV acc:    0.979078947368421\n"
          ]
        }
      ],
      "source": [
        "grid_lr = GridSearchCV(\n",
        "    estimator=LogisticRegression(max_iter=1000),\n",
        "    param_grid=param_grid_lr,\n",
        "    cv=cv,\n",
        "    scoring='accuracy',\n",
        "    n_jobs=-1\n",
        ")\n",
        "grid_lr.fit(X_train, y_train)\n",
        "\n",
        "print(\"Best LR params:\", grid_lr.best_params_)\n",
        "print(\"Best CV acc:   \", grid_lr.best_score_)"
      ]
    },
    {
      "cell_type": "code",
      "execution_count": 93,
      "metadata": {
        "colab": {
          "base_uri": "https://localhost:8080/"
        },
        "id": "G9rdY-WzaMVS",
        "outputId": "64ebf8d7-eaf0-4555-eae7-62becb45fdb7"
      },
      "outputs": [
        {
          "name": "stdout",
          "output_type": "stream",
          "text": [
            "Best kNN params: {'n_neighbors': 5, 'p': 2, 'weights': 'uniform'}\n",
            "Best CV acc:     0.9790131578947369\n"
          ]
        }
      ],
      "source": [
        "grid_knn = GridSearchCV(\n",
        "    KNeighborsClassifier(),\n",
        "    param_grid_knn,\n",
        "    cv=cv,\n",
        "    scoring='accuracy',\n",
        "    n_jobs=-1\n",
        ")\n",
        "grid_knn.fit(X_train, y_train)\n",
        "print(\"Best kNN params:\", grid_knn.best_params_)\n",
        "print(\"Best CV acc:    \", grid_knn.best_score_)"
      ]
    },
    {
      "cell_type": "code",
      "execution_count": 94,
      "metadata": {
        "colab": {
          "base_uri": "https://localhost:8080/"
        },
        "id": "jgn5Ih42aSD1",
        "outputId": "0e6902c0-05fe-4c4f-d345-67f0426498f9"
      },
      "outputs": [
        {
          "name": "stdout",
          "output_type": "stream",
          "text": [
            "Best RF params: {'max_depth': 5, 'max_features': 'sqrt', 'min_samples_leaf': 2, 'n_estimators': 50}\n",
            "Best CV acc:    0.9748464912280701\n"
          ]
        }
      ],
      "source": [
        "grid_rf = GridSearchCV(\n",
        "    RandomForestClassifier(random_state=42),\n",
        "    param_grid_rf,\n",
        "    cv=cv,\n",
        "    scoring='accuracy',\n",
        "    n_jobs=-1\n",
        ")\n",
        "grid_rf.fit(X_train, y_train)\n",
        "print(\"Best RF params:\", grid_rf.best_params_)\n",
        "print(\"Best CV acc:   \", grid_rf.best_score_)"
      ]
    },
    {
      "cell_type": "code",
      "execution_count": 95,
      "metadata": {
        "colab": {
          "base_uri": "https://localhost:8080/"
        },
        "id": "WbSeo2ZZahwI",
        "outputId": "0118becc-9e1f-496c-fd2f-3ef45e2620e1"
      },
      "outputs": [
        {
          "name": "stdout",
          "output_type": "stream",
          "text": [
            "=== LogisticRegression ===\n",
            "Accuracy: 0.9560975609756097\n",
            "              precision    recall  f1-score   support\n",
            "\n",
            "      Benign       0.97      0.96      0.97       133\n",
            "   Malignant       0.93      0.94      0.94        72\n",
            "\n",
            "    accuracy                           0.96       205\n",
            "   macro avg       0.95      0.95      0.95       205\n",
            "weighted avg       0.96      0.96      0.96       205\n",
            "\n",
            "\n",
            "=== kNN (tuned) ===\n",
            "Accuracy: 0.9560975609756097\n",
            "              precision    recall  f1-score   support\n",
            "\n",
            "      Benign       0.97      0.96      0.97       133\n",
            "   Malignant       0.93      0.94      0.94        72\n",
            "\n",
            "    accuracy                           0.96       205\n",
            "   macro avg       0.95      0.95      0.95       205\n",
            "weighted avg       0.96      0.96      0.96       205\n",
            "\n",
            "\n",
            "=== RandomForest ===\n",
            "Accuracy: 0.9609756097560975\n",
            "              precision    recall  f1-score   support\n",
            "\n",
            "      Benign       0.98      0.96      0.97       133\n",
            "   Malignant       0.93      0.96      0.95        72\n",
            "\n",
            "    accuracy                           0.96       205\n",
            "   macro avg       0.95      0.96      0.96       205\n",
            "weighted avg       0.96      0.96      0.96       205\n",
            "\n",
            "\n"
          ]
        }
      ],
      "source": [
        "best_lr = grid_lr.best_estimator_\n",
        "# print(\"LR test acc:\", best_lr.score(X_test, y_test))\n",
        "\n",
        "best_knn = grid_knn.best_estimator_\n",
        "# print(\"kNN test acc:\", best_knn.score(X_test, y_test))\n",
        "\n",
        "best_rf = grid_rf.best_estimator_\n",
        "# print(\"RF test acc:\", best_rf.score(X_test, y_test))\n",
        "models = {\n",
        "    'LogisticRegression': best_lr,\n",
        "    'kNN (tuned)':        best_knn,\n",
        "    'RandomForest':       best_rf,\n",
        "}\n",
        "for name, model in models.items():\n",
        "    model.fit(X_train, y_train)\n",
        "    y_pred = model.predict(X_test)\n",
        "    print(f\"=== {name} ===\")\n",
        "    print(\"Accuracy:\", accuracy_score(y_test, y_pred))\n",
        "    print(classification_report(y_test, y_pred, target_names=['Benign','Malignant']))\n",
        "    print()\n"
      ]
    },
    {
      "cell_type": "markdown",
      "metadata": {
        "id": "UE2_Wh-GWmEg"
      },
      "source": [
        "### Câu b:"
      ]
    },
    {
      "cell_type": "markdown",
      "metadata": {
        "id": "eut8vh3YWnYH"
      },
      "source": [
        "**Ý tưởng Naive Bayes (hệ quả của định lý Bayes)**\n",
        "- Với mỗi mẫu đặc trưng $X$ (vector 9 thuộc tính), Naive Bayes sẽ tính xác suất $P(class = c | X)$ dựa trên:\n",
        "$$\n",
        "  P(class = c | X) = Π_{i = 1}^9P(X_i|class = c)\n",
        "$$\n",
        "- Chọn các lớp $c$ sao cho xác suất hậu nghiệm lớn nhất.  \n",
        "\n",
        "Với các biến liên tục như ở đây (đều integer 1–10), ta dùng GaussianNB."
      ]
    },
    {
      "cell_type": "code",
      "execution_count": 96,
      "metadata": {
        "colab": {
          "base_uri": "https://localhost:8080/"
        },
        "id": "SrAK_RsiXa88",
        "outputId": "df477767-54c3-4e03-9849-059091c32456"
      },
      "outputs": [
        {
          "name": "stdout",
          "output_type": "stream",
          "text": [
            "GaussianNB Accuracy: 0.9609756097560975\n",
            "\n",
            "              precision    recall  f1-score   support\n",
            "\n",
            "      Benign       0.98      0.96      0.97       133\n",
            "   Malignant       0.93      0.96      0.95        72\n",
            "\n",
            "    accuracy                           0.96       205\n",
            "   macro avg       0.95      0.96      0.96       205\n",
            "weighted avg       0.96      0.96      0.96       205\n",
            "\n"
          ]
        }
      ],
      "source": [
        "gnb = GaussianNB()\n",
        "gnb.fit(X_train, y_train)\n",
        "y_pred = gnb.predict(X_test)\n",
        "acc = accuracy_score(y_test, y_pred)\n",
        "print(f\"GaussianNB Accuracy: {acc}\\n\")\n",
        "print(classification_report(y_test, y_pred, target_names=['Benign','Malignant']))"
      ]
    },
    {
      "cell_type": "markdown",
      "metadata": {
        "id": "Kbew7IGCcHEb"
      },
      "source": [
        "**So sánh và nhận xét:**  \n",
        "Ta thấy Random Forest và GaussianNB đang dẫn đầu với accuracy $≈ 0.96$, nhỉnh hơn Logistic và KNN.\n"
      ]
    },
    {
      "cell_type": "markdown",
      "metadata": {
        "id": "Du8Kse3aYEr6"
      },
      "source": [
        "### Câu c:"
      ]
    },
    {
      "cell_type": "code",
      "execution_count": 97,
      "metadata": {
        "colab": {
          "base_uri": "https://localhost:8080/"
        },
        "id": "eIYoDq5JYGAf",
        "outputId": "5e918ae1-9a3a-4c90-ad0e-d2ec469d9513"
      },
      "outputs": [
        {
          "name": "stdout",
          "output_type": "stream",
          "text": [
            "             Model  Mean Acc  Std Acc\n",
            "       kNN (tuned)  0.978026 0.011805\n",
            "      RandomForest  0.970695 0.014643\n",
            "LogisticRegression  0.969267 0.018950\n",
            "        GaussianNB  0.963448 0.019832\n"
          ]
        }
      ],
      "source": [
        "best_gnb = GaussianNB()\n",
        "models = {\n",
        "    'LogisticRegression': best_lr,\n",
        "    'kNN (tuned)':        best_knn,\n",
        "    'RandomForest':       best_rf,\n",
        "    'GaussianNB':         best_gnb\n",
        "}\n",
        "# Thiết lập cross‑validation\n",
        "cv = StratifiedKFold(n_splits=10, shuffle=True, random_state=42)\n",
        "# Chạy cross‑validation\n",
        "results = []\n",
        "for name, model in models.items():\n",
        "    scores = cross_val_score(\n",
        "        model, X, y,\n",
        "        cv=cv,\n",
        "        scoring='accuracy',\n",
        "        n_jobs=-1\n",
        "    )\n",
        "    results.append({\n",
        "        'Model':   name,\n",
        "        'Mean Acc': np.mean(scores),\n",
        "        'Std Acc':  np.std(scores)\n",
        "    })\n",
        "\n",
        "# Hiển thị kết quả\n",
        "cv_df = pd.DataFrame(results).sort_values('Mean Acc', ascending=False)\n",
        "print(cv_df.to_string(index=False))"
      ]
    },
    {
      "cell_type": "markdown",
      "metadata": {
        "id": "ItfKHHayZ-j1"
      },
      "source": [
        "**Kết luận :**   \n",
        "Sau khi sử dụng k-fold cross validation ta thấy được mô hình KNN hoạt động tốt nhất với `Mean Acc ≈ 0.978` và độ biến động thấp $≈ 0.12$.  \n",
        "Vì thế, kNN (với hyper-parameters đã tune) là mô hình tốt nhất để phân lớp “ung thư vú” theo các đặc trưng còn lại, xét trên tiêu chí accuracy trung bình và độ ổn định của mô hình."
      ]
    },
    {
      "cell_type": "markdown",
      "metadata": {
        "id": "Oyf14GbMbO91"
      },
      "source": [
        "### Câu d:"
      ]
    },
    {
      "cell_type": "code",
      "execution_count": 98,
      "metadata": {
        "id": "ol7NPfc0bTM-"
      },
      "outputs": [],
      "source": [
        "from imblearn.over_sampling import SMOTE\n",
        "from imblearn.under_sampling import RandomUnderSampler\n",
        "models = {\n",
        "    'LogisticRegression': best_lr,\n",
        "    'kNN (tuned)':        best_knn,\n",
        "    'RandomForest':       best_rf,\n",
        "}"
      ]
    },
    {
      "cell_type": "markdown",
      "metadata": {
        "id": "DZAsES7-bb6L"
      },
      "source": [
        "**Over Sampling**"
      ]
    },
    {
      "cell_type": "code",
      "execution_count": 99,
      "metadata": {
        "colab": {
          "base_uri": "https://localhost:8080/"
        },
        "id": "KMVLVyN2brJC",
        "outputId": "73e22a98-7501-413d-f0e2-33e5afbdcf52"
      },
      "outputs": [
        {
          "name": "stdout",
          "output_type": "stream",
          "text": [
            "=== Over-sampling with SMOTE ===\n",
            "--- LogisticRegression ---\n",
            "Accuracy: 0.9658536585365853\n",
            "              precision    recall  f1-score   support\n",
            "\n",
            "      Benign       0.98      0.96      0.97       133\n",
            "   Malignant       0.93      0.97      0.95        72\n",
            "\n",
            "    accuracy                           0.97       205\n",
            "   macro avg       0.96      0.97      0.96       205\n",
            "weighted avg       0.97      0.97      0.97       205\n",
            "\n",
            "--- kNN (tuned) ---\n",
            "Accuracy: 0.9658536585365853\n",
            "              precision    recall  f1-score   support\n",
            "\n",
            "      Benign       0.98      0.96      0.97       133\n",
            "   Malignant       0.93      0.97      0.95        72\n",
            "\n",
            "    accuracy                           0.97       205\n",
            "   macro avg       0.96      0.97      0.96       205\n",
            "weighted avg       0.97      0.97      0.97       205\n",
            "\n",
            "--- RandomForest ---\n",
            "Accuracy: 0.9707317073170731\n",
            "              precision    recall  f1-score   support\n",
            "\n",
            "      Benign       0.99      0.96      0.98       133\n",
            "   Malignant       0.93      0.99      0.96        72\n",
            "\n",
            "    accuracy                           0.97       205\n",
            "   macro avg       0.96      0.97      0.97       205\n",
            "weighted avg       0.97      0.97      0.97       205\n",
            "\n"
          ]
        }
      ],
      "source": [
        "smote = SMOTE(random_state=42)\n",
        "X_sm, y_sm = smote.fit_resample(X_train, y_train)\n",
        "\n",
        "# 3.2 Huấn luyện và đánh giá trên tập SMOTE\n",
        "print(\"=== Over-sampling with SMOTE ===\")\n",
        "for name, model in models.items():\n",
        "    model.fit(X_sm, y_sm)\n",
        "    y_pred = model.predict(X_test)\n",
        "    print(f\"--- {name} ---\")\n",
        "    print(\"Accuracy:\", accuracy_score(y_test, y_pred))\n",
        "    print(classification_report(y_test, y_pred, target_names=['Benign','Malignant']))"
      ]
    },
    {
      "cell_type": "markdown",
      "metadata": {
        "id": "SdMU-0B4cIEP"
      },
      "source": [
        "**Under Sampling**"
      ]
    },
    {
      "cell_type": "code",
      "execution_count": 100,
      "metadata": {
        "colab": {
          "base_uri": "https://localhost:8080/"
        },
        "id": "6r_gfe_0cQAw",
        "outputId": "63bb0000-fa00-41bd-a294-f647f78af90b"
      },
      "outputs": [
        {
          "name": "stdout",
          "output_type": "stream",
          "text": [
            "=== Under-sampling with RandomUnderSampler ===\n",
            "--- LogisticRegression ---\n",
            "Accuracy: 0.9658536585365853\n",
            "              precision    recall  f1-score   support\n",
            "\n",
            "      Benign       0.98      0.96      0.97       133\n",
            "   Malignant       0.93      0.97      0.95        72\n",
            "\n",
            "    accuracy                           0.97       205\n",
            "   macro avg       0.96      0.97      0.96       205\n",
            "weighted avg       0.97      0.97      0.97       205\n",
            "\n",
            "--- kNN (tuned) ---\n",
            "Accuracy: 0.9658536585365853\n",
            "              precision    recall  f1-score   support\n",
            "\n",
            "      Benign       0.98      0.96      0.97       133\n",
            "   Malignant       0.93      0.97      0.95        72\n",
            "\n",
            "    accuracy                           0.97       205\n",
            "   macro avg       0.96      0.97      0.96       205\n",
            "weighted avg       0.97      0.97      0.97       205\n",
            "\n",
            "--- RandomForest ---\n",
            "Accuracy: 0.9707317073170731\n",
            "              precision    recall  f1-score   support\n",
            "\n",
            "      Benign       0.99      0.96      0.98       133\n",
            "   Malignant       0.93      0.99      0.96        72\n",
            "\n",
            "    accuracy                           0.97       205\n",
            "   macro avg       0.96      0.97      0.97       205\n",
            "weighted avg       0.97      0.97      0.97       205\n",
            "\n"
          ]
        }
      ],
      "source": [
        "# 4.1 Tạo RandomUnderSampler và áp lên training set\n",
        "rus = RandomUnderSampler(random_state=42)\n",
        "X_ru, y_ru = rus.fit_resample(X_train, y_train)\n",
        "\n",
        "# 4.2 Huấn luyện và đánh giá trên tập under-sampled\n",
        "print(\"=== Under-sampling with RandomUnderSampler ===\")\n",
        "for name, model in models.items():\n",
        "    model.fit(X_ru, y_ru)\n",
        "    y_pred = model.predict(X_test)\n",
        "    print(f\"--- {name} ---\")\n",
        "    print(\"Accuracy:\", accuracy_score(y_test, y_pred))\n",
        "    print(classification_report(y_test, y_pred, target_names=['Benign','Malignant']))"
      ]
    },
    {
      "cell_type": "markdown",
      "metadata": {
        "id": "vtnidgUvf2Ky"
      },
      "source": [
        "Model | Setting | Acc | Prec (Mal) | Rec (Mal) | F1 (Mal)\n",
        "------|---------|-----|------------|-----------|--------|\n",
        "LogisticRegression | Original | 0.956 | 0.93 | 0.94 | 0.94 |\n",
        "|                  | SMOTE | 0.966 | 0.93 | 0.97 | 0.95 |\n",
        "|                  | Under-sam | 0.966 | 0.93 | 0.97 | 0.95 |\n",
        "| kNN (tuned) | Original | 0.956 | 0.93 | 0.94 | 0.94 |\n",
        "|          | SMOTE | 0.966 | 0.93 | 0.97 | 0.95 |\n",
        "|          | Under-sam | 0.966 | 0.93 | 0.97 | 0.95 |\n",
        "RandomForest | Original | 0.961 | 0.93 | 0.96 | 0.95 |\n",
        "|          | SMOTE | 0.971 | 0.93 | 0.99 | 0.96 |\n",
        "|          | Under-sam | 0.971 | 0.93 | 0.99 | 0.96 |\n",
        "\n",
        "**Nhận xét:**  \n",
        "1. Cải thiện Recall cho lớp Malignant\n",
        "  - Trên tập gốc, Recall_Mal chỉ ~0.94 (LR/kNN) và 0.96 (RF).\n",
        "  - Với cả SMOTE và Under-sampling, Recall_Mal bật lên 0.97 (LR/kNN) và 0.99 (RF) → hầu như không bỏ sót ca ung thư nào.\n",
        "2. Precision giữ ổn định\n",
        "  - Dù sinh thêm mẫu (SMOTE) hay bỏ bớt mẫu (Under-sampler), Precision_Mal vẫn ~0.93 → không tăng nhiều false-positive.\n",
        "3. Accuracy và F1-score tăng\n",
        "  - Accuracy chung lên ~0.966 (LR/kNN) và ~0.971 (RF).\n",
        "  - F1_Mal tăng từ ~0.94 → ~0.95/0.96.\n",
        "4. Over vs. Under-sampling\n",
        "  - Kết quả gần như IDENTICAL: cả hai phương pháp đều đưa Recall và Accuracy lên cùng mức.\n",
        "  - Lợi thế SMOTE: giữ nguyên toàn bộ thông tin của lớp Benign, thêm dữ liệu “nhân tạo” cho Malignant; dễ xảy ra over-fitting nếu không cẩn thận.\n",
        "  - Lợi thế Under-sampling: giảm kích thước tập huấn luyện, huấn luyện nhanh, ít memory; nhưng có thể bỏ sót thông tin quan trọng của Benign.\n",
        "\n",
        "\n",
        "**Kết luận:**  \n",
        "- Mục tiêu chính: tăng khả năng phát hiện ung thư (Recall Malignant) mà không đánh đổi nhiều về Precision hay Accuracy → cả SMOTE và Under-sampling đều đáp ứng rất tốt.\n",
        "- Nếu quan tâm tốc độ huấn luyện và đơn giản: dùng Under-sampling.\n",
        "- Nếu muốn duy trì đầy đủ dữ liệu gốc và dễ tích hợp vào pipeline: dùng SMOTE.\n",
        "- RandomForest + sampling (SMOTE/Under) cho kết quả tốt nhất, Recall=0.99, Accuracy=0.971.\n",
        "- LR và kNN cũng cải thiện lên Recall=0.97, phù hợp nếu cần mô hình nhẹ hơn."
      ]
    }
  ],
  "metadata": {
    "colab": {
      "provenance": []
    },
    "kernelspec": {
      "display_name": "Python 3",
      "name": "python3"
    },
    "language_info": {
      "name": "python"
    },
    "widgets": {
      "application/vnd.jupyter.widget-state+json": {
        "63cc50638b42421986e4e4d54ec6ede9": {
          "model_module": "@jupyter-widgets/output",
          "model_module_version": "1.0.0",
          "model_name": "OutputModel",
          "state": {
            "_dom_classes": [],
            "_model_module": "@jupyter-widgets/output",
            "_model_module_version": "1.0.0",
            "_model_name": "OutputModel",
            "_view_count": null,
            "_view_module": "@jupyter-widgets/output",
            "_view_module_version": "1.0.0",
            "_view_name": "OutputView",
            "layout": "IPY_MODEL_f3ac7a31323342588046dfeda99f5046",
            "msg_id": "",
            "outputs": [
              {
                "data": {
                  "text/html": "<pre style=\"white-space:pre;overflow-x:auto;line-height:normal;font-family:Menlo,'DejaVu Sans Mono',consolas,'Courier New',monospace\">                                                                                                                   \n <span style=\"font-weight: bold\"> Progress                  </span> <span style=\"font-weight: bold\"> Draws </span> <span style=\"font-weight: bold\"> Divergences </span> <span style=\"font-weight: bold\"> Step size </span> <span style=\"font-weight: bold\"> Grad evals </span> <span style=\"font-weight: bold\"> Sampling Speed </span> <span style=\"font-weight: bold\"> Elapsed </span> <span style=\"font-weight: bold\"> Remaining </span> \n ───────────────────────────────────────────────────────────────────────────────────────────────────────────────── \n  <span style=\"color: #d62728; text-decoration-color: #d62728\">━━━━━━━━━━━━━━━━━━━━━━━━━</span>   4500    1534          0.11        3            666.10 draws/s   0:00:06   0:00:00    \n  <span style=\"color: #d62728; text-decoration-color: #d62728\">━━━━━━━━━━━━━━━━━━━━━━━━━</span>   4500    1557          0.12        15           416.59 draws/s   0:00:10   0:00:00    \n                                                                                                                   \n</pre>\n",
                  "text/plain": "                                                                                                                   \n \u001b[1m \u001b[0m\u001b[1mProgress                 \u001b[0m\u001b[1m \u001b[0m \u001b[1m \u001b[0m\u001b[1mDraws\u001b[0m\u001b[1m \u001b[0m \u001b[1m \u001b[0m\u001b[1mDivergences\u001b[0m\u001b[1m \u001b[0m \u001b[1m \u001b[0m\u001b[1mStep size\u001b[0m\u001b[1m \u001b[0m \u001b[1m \u001b[0m\u001b[1mGrad evals\u001b[0m\u001b[1m \u001b[0m \u001b[1m \u001b[0m\u001b[1mSampling Speed\u001b[0m\u001b[1m \u001b[0m \u001b[1m \u001b[0m\u001b[1mElapsed\u001b[0m\u001b[1m \u001b[0m \u001b[1m \u001b[0m\u001b[1mRemaining\u001b[0m\u001b[1m \u001b[0m \n ───────────────────────────────────────────────────────────────────────────────────────────────────────────────── \n  \u001b[38;2;214;39;40m━━━━━━━━━━━━━━━━━━━━━━━━━\u001b[0m   4500    1534          0.11        3            666.10 draws/s   0:00:06   0:00:00    \n  \u001b[38;2;214;39;40m━━━━━━━━━━━━━━━━━━━━━━━━━\u001b[0m   4500    1557          0.12        15           416.59 draws/s   0:00:10   0:00:00    \n                                                                                                                   \n"
                },
                "metadata": {},
                "output_type": "display_data"
              }
            ]
          }
        },
        "f3ac7a31323342588046dfeda99f5046": {
          "model_module": "@jupyter-widgets/base",
          "model_module_version": "1.2.0",
          "model_name": "LayoutModel",
          "state": {
            "_model_module": "@jupyter-widgets/base",
            "_model_module_version": "1.2.0",
            "_model_name": "LayoutModel",
            "_view_count": null,
            "_view_module": "@jupyter-widgets/base",
            "_view_module_version": "1.2.0",
            "_view_name": "LayoutView",
            "align_content": null,
            "align_items": null,
            "align_self": null,
            "border": null,
            "bottom": null,
            "display": null,
            "flex": null,
            "flex_flow": null,
            "grid_area": null,
            "grid_auto_columns": null,
            "grid_auto_flow": null,
            "grid_auto_rows": null,
            "grid_column": null,
            "grid_gap": null,
            "grid_row": null,
            "grid_template_areas": null,
            "grid_template_columns": null,
            "grid_template_rows": null,
            "height": null,
            "justify_content": null,
            "justify_items": null,
            "left": null,
            "margin": null,
            "max_height": null,
            "max_width": null,
            "min_height": null,
            "min_width": null,
            "object_fit": null,
            "object_position": null,
            "order": null,
            "overflow": null,
            "overflow_x": null,
            "overflow_y": null,
            "padding": null,
            "right": null,
            "top": null,
            "visibility": null,
            "width": null
          }
        }
      }
    }
  },
  "nbformat": 4,
  "nbformat_minor": 0
}
